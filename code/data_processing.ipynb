{
 "cells": [
  {
   "cell_type": "code",
   "execution_count": 1,
   "metadata": {
    "collapsed": true
   },
   "outputs": [],
   "source": [
    "import pandas as pd\n",
    "from collections import Counter\n",
    "import os \n",
    "from tqdm import trange"
   ]
  },
  {
   "cell_type": "code",
   "execution_count": 2,
   "metadata": {
    "collapsed": true
   },
   "outputs": [],
   "source": [
    "os.chdir('/home/dqw_zyf/_DTI')"
   ]
  },
  {
   "cell_type": "code",
   "execution_count": 3,
   "metadata": {
    "collapsed": true
   },
   "outputs": [],
   "source": [
    "datadb = pd.read_csv('datadb.txt')"
   ]
  },
  {
   "cell_type": "code",
   "execution_count": 4,
   "metadata": {
    "collapsed": false,
    "scrolled": true
   },
   "outputs": [
    {
     "data": {
      "text/html": [
       "<div>\n",
       "<style scoped>\n",
       "    .dataframe tbody tr th:only-of-type {\n",
       "        vertical-align: middle;\n",
       "    }\n",
       "\n",
       "    .dataframe tbody tr th {\n",
       "        vertical-align: top;\n",
       "    }\n",
       "\n",
       "    .dataframe thead th {\n",
       "        text-align: right;\n",
       "    }\n",
       "</style>\n",
       "<table border=\"1\" class=\"dataframe\">\n",
       "  <thead>\n",
       "    <tr style=\"text-align: right;\">\n",
       "      <th></th>\n",
       "      <th>mol</th>\n",
       "      <th>Target Name</th>\n",
       "      <th>IC50 (nM)</th>\n",
       "      <th>Curation/DataSource</th>\n",
       "      <th>BindingDB Target Chain Sequence</th>\n",
       "      <th>UniProt (SwissProt) Primary ID of Target Chain</th>\n",
       "      <th>PubChem CID of Ligand</th>\n",
       "    </tr>\n",
       "  </thead>\n",
       "  <tbody>\n",
       "    <tr>\n",
       "      <th>0</th>\n",
       "      <td>O=C(O)CCCCCN1[C@H](Cc2ccccc2)[C@H](O)[C@@H](O)...</td>\n",
       "      <td>Dimer of Gag-Pol polyprotein [501-599]</td>\n",
       "      <td>NaN</td>\n",
       "      <td>Curated from the literature by BindingDB</td>\n",
       "      <td>PQITLWQRPL VTIKIGGQLK EALLDTGADD TVLEEMSLPG RW...</td>\n",
       "      <td>P03367</td>\n",
       "      <td>NaN</td>\n",
       "    </tr>\n",
       "    <tr>\n",
       "      <th>1</th>\n",
       "      <td>O=C1N(C/C=C/c2c[nH]nc2)[C@H](Cc2ccccc2)[C@H](O...</td>\n",
       "      <td>Dimer of Gag-Pol polyprotein [501-599]</td>\n",
       "      <td>NaN</td>\n",
       "      <td>Curated from the literature by BindingDB</td>\n",
       "      <td>PQITLWQRPL VTIKIGGQLK EALLDTGADD TVLEEMSLPG RW...</td>\n",
       "      <td>P03367</td>\n",
       "      <td>5327236.0</td>\n",
       "    </tr>\n",
       "    <tr>\n",
       "      <th>2</th>\n",
       "      <td>O=C1N(C/C=C/c2c[nH]nc2)[C@H](Cc2ccccc2)[C@H](O...</td>\n",
       "      <td>Dimer of Gag-Pol polyprotein [501-599]</td>\n",
       "      <td>NaN</td>\n",
       "      <td>Curated from the literature by BindingDB</td>\n",
       "      <td>PQITLWQRPL VTIKIGGQLK EALLDTGADD TVLEEMSLPG RW...</td>\n",
       "      <td>P03367</td>\n",
       "      <td>5327235.0</td>\n",
       "    </tr>\n",
       "    <tr>\n",
       "      <th>3</th>\n",
       "      <td>O=C1N(CCCCCCO)[C@H](Cc2ccccc2)[C@H](O)[C@@H](O...</td>\n",
       "      <td>Dimer of Gag-Pol polyprotein [501-599]</td>\n",
       "      <td>NaN</td>\n",
       "      <td>Curated from the literature by BindingDB</td>\n",
       "      <td>PQITLWQRPL VTIKIGGQLK EALLDTGADD TVLEEMSLPG RW...</td>\n",
       "      <td>P03367</td>\n",
       "      <td>5327234.0</td>\n",
       "    </tr>\n",
       "    <tr>\n",
       "      <th>4</th>\n",
       "      <td>O=C1N(CCCCCO)[C@H](Cc2ccccc2)[C@H](O)[C@@H](O)...</td>\n",
       "      <td>Dimer of Gag-Pol polyprotein [501-599]</td>\n",
       "      <td>NaN</td>\n",
       "      <td>Curated from the literature by BindingDB</td>\n",
       "      <td>PQITLWQRPL VTIKIGGQLK EALLDTGADD TVLEEMSLPG RW...</td>\n",
       "      <td>P03367</td>\n",
       "      <td>3009319.0</td>\n",
       "    </tr>\n",
       "  </tbody>\n",
       "</table>\n",
       "</div>"
      ],
      "text/plain": [
       "                                                 mol  \\\n",
       "0  O=C(O)CCCCCN1[C@H](Cc2ccccc2)[C@H](O)[C@@H](O)...   \n",
       "1  O=C1N(C/C=C/c2c[nH]nc2)[C@H](Cc2ccccc2)[C@H](O...   \n",
       "2  O=C1N(C/C=C/c2c[nH]nc2)[C@H](Cc2ccccc2)[C@H](O...   \n",
       "3  O=C1N(CCCCCCO)[C@H](Cc2ccccc2)[C@H](O)[C@@H](O...   \n",
       "4  O=C1N(CCCCCO)[C@H](Cc2ccccc2)[C@H](O)[C@@H](O)...   \n",
       "\n",
       "                              Target Name IC50 (nM)  \\\n",
       "0  Dimer of Gag-Pol polyprotein [501-599]       NaN   \n",
       "1  Dimer of Gag-Pol polyprotein [501-599]       NaN   \n",
       "2  Dimer of Gag-Pol polyprotein [501-599]       NaN   \n",
       "3  Dimer of Gag-Pol polyprotein [501-599]       NaN   \n",
       "4  Dimer of Gag-Pol polyprotein [501-599]       NaN   \n",
       "\n",
       "                        Curation/DataSource  \\\n",
       "0  Curated from the literature by BindingDB   \n",
       "1  Curated from the literature by BindingDB   \n",
       "2  Curated from the literature by BindingDB   \n",
       "3  Curated from the literature by BindingDB   \n",
       "4  Curated from the literature by BindingDB   \n",
       "\n",
       "                     BindingDB Target Chain Sequence  \\\n",
       "0  PQITLWQRPL VTIKIGGQLK EALLDTGADD TVLEEMSLPG RW...   \n",
       "1  PQITLWQRPL VTIKIGGQLK EALLDTGADD TVLEEMSLPG RW...   \n",
       "2  PQITLWQRPL VTIKIGGQLK EALLDTGADD TVLEEMSLPG RW...   \n",
       "3  PQITLWQRPL VTIKIGGQLK EALLDTGADD TVLEEMSLPG RW...   \n",
       "4  PQITLWQRPL VTIKIGGQLK EALLDTGADD TVLEEMSLPG RW...   \n",
       "\n",
       "  UniProt (SwissProt) Primary ID of Target Chain  PubChem CID of Ligand  \n",
       "0                                         P03367                    NaN  \n",
       "1                                         P03367              5327236.0  \n",
       "2                                         P03367              5327235.0  \n",
       "3                                         P03367              5327234.0  \n",
       "4                                         P03367              3009319.0  "
      ]
     },
     "execution_count": 4,
     "metadata": {},
     "output_type": "execute_result"
    }
   ],
   "source": [
    "datadb.head()"
   ]
  },
  {
   "cell_type": "code",
   "execution_count": 5,
   "metadata": {
    "collapsed": true
   },
   "outputs": [],
   "source": [
    "datasource= list(datadb['Curation/DataSource'])"
   ]
  },
  {
   "cell_type": "code",
   "execution_count": 6,
   "metadata": {
    "collapsed": false,
    "scrolled": false
   },
   "outputs": [
    {
     "data": {
      "text/plain": [
       "Counter({'Curated from the literature by BindingDB': 89070,\n",
       "         'US Patent': 1034910,\n",
       "         'PubChem': 120567,\n",
       "         'PDSP Ki': 27733,\n",
       "         'Taylor Research Group  UCSD': 274,\n",
       "         'CSAR': 818,\n",
       "         'D3R': 2990,\n",
       "         'WIPO': 5961,\n",
       "         'ChEMBL': 1503403})"
      ]
     },
     "execution_count": 6,
     "metadata": {},
     "output_type": "execute_result"
    }
   ],
   "source": [
    "Counter(datasource)"
   ]
  },
  {
   "cell_type": "code",
   "execution_count": 7,
   "metadata": {
    "collapsed": false
   },
   "outputs": [
    {
     "name": "stdout",
     "output_type": "stream",
     "text": [
      "numbers of BindingDB mol: 47159\n",
      "numbers of BindingDB targets: 1998\n"
     ]
    }
   ],
   "source": [
    "#查询BindingDB数据量\n",
    "BindingDB = datadb[datadb['Curation/DataSource']=='Curated from the literature by BindingDB']\n",
    "\n",
    "\n",
    "BindingDB_mol = list(BindingDB['mol'].unique())\n",
    "print('numbers of BindingDB mol:',len(BindingDB_mol))\n",
    "\n",
    "BindingDB_target = list(BindingDB['Target Name'].unique())\n",
    "print('numbers of BindingDB targets:',len(BindingDB_target))"
   ]
  },
  {
   "cell_type": "code",
   "execution_count": 8,
   "metadata": {
    "collapsed": false
   },
   "outputs": [
    {
     "name": "stdout",
     "output_type": "stream",
     "text": [
      "numbers of PubChem mol: 55741\n",
      "numbers of PubChem targets: 603\n"
     ]
    }
   ],
   "source": [
    "#查询PubChem数据量\n",
    "#PubChem: 120567\n",
    "PubChem = datadb[datadb['Curation/DataSource']=='PubChem']\n",
    "\n",
    "\n",
    "PubChem_mol = list(PubChem['mol'].unique())\n",
    "print('numbers of PubChem mol:',len(PubChem_mol))\n",
    "\n",
    "PubChem_target = list(PubChem['Target Name'].unique())\n",
    "print('numbers of PubChem targets:',len(PubChem_target))"
   ]
  },
  {
   "cell_type": "code",
   "execution_count": 9,
   "metadata": {
    "collapsed": false
   },
   "outputs": [
    {
     "name": "stdout",
     "output_type": "stream",
     "text": [
      "numbers of ChEMBL mol: 617972\n",
      "numbers of ChEMBL targets: 4506\n"
     ]
    }
   ],
   "source": [
    "#查询ChEMBL数据量\n",
    "#ChEMBL': 1503403\n",
    "ChEMBL = datadb[datadb['Curation/DataSource']=='ChEMBL']\n",
    "\n",
    "\n",
    "ChEMBL_mol = list(ChEMBL['mol'].unique())\n",
    "print('numbers of ChEMBL mol:',len(ChEMBL_mol))\n",
    "\n",
    "ChEMBL_target = list(ChEMBL['Target Name'].unique())\n",
    "print('numbers of ChEMBL targets:',len(ChEMBL_target))"
   ]
  },
  {
   "cell_type": "code",
   "execution_count": 10,
   "metadata": {
    "collapsed": false
   },
   "outputs": [
    {
     "name": "stdout",
     "output_type": "stream",
     "text": [
      "1713040\n"
     ]
    }
   ],
   "source": [
    "#构建dataset\n",
    "tmp_datadb = datadb.drop(datadb[datadb['Curation/DataSource']=='US Patent'].index)\n",
    "tmp_datadb = tmp_datadb.drop(tmp_datadb[tmp_datadb['Curation/DataSource']=='PDSP Ki'].index)\n",
    "tmp_datadb = tmp_datadb.drop(tmp_datadb[tmp_datadb['Curation/DataSource']=='Taylor Research Group  UCSD'].index)\n",
    "tmp_datadb = tmp_datadb.drop(tmp_datadb[tmp_datadb['Curation/DataSource']=='CSAR'].index)\n",
    "tmp_datadb = tmp_datadb.drop(tmp_datadb[tmp_datadb['Curation/DataSource']=='D3R'].index)\n",
    "tmp_datadb = tmp_datadb.drop(tmp_datadb[tmp_datadb['Curation/DataSource']=='WIPO'].index)\n",
    "\n",
    "print(len(tmp_datadb))"
   ]
  },
  {
   "cell_type": "code",
   "execution_count": 11,
   "metadata": {
    "collapsed": false
   },
   "outputs": [
    {
     "name": "stdout",
     "output_type": "stream",
     "text": [
      "1031500\n"
     ]
    }
   ],
   "source": [
    "#构建dataset\n",
    "tmp_dataset = tmp_datadb[(tmp_datadb['IC50 (nM)'].notna())]\n",
    "print(len(tmp_dataset))\n"
   ]
  },
  {
   "cell_type": "code",
   "execution_count": 15,
   "metadata": {
    "collapsed": false,
    "scrolled": true
   },
   "outputs": [
    {
     "name": "stderr",
     "output_type": "stream",
     "text": [
      "  0%|                                                                                                                                                                                                   | 0/1031500 [00:00<?, ?it/s]/home/dqw_zyf/.conda/envs/zyf/lib/python3.9/site-packages/pandas/core/indexing.py:1817: SettingWithCopyWarning: \n",
      "A value is trying to be set on a copy of a slice from a DataFrame.\n",
      "Try using .loc[row_indexer,col_indexer] = value instead\n",
      "\n",
      "See the caveats in the documentation: https://pandas.pydata.org/pandas-docs/stable/user_guide/indexing.html#returning-a-view-versus-a-copy\n",
      "  self._setitem_single_column(loc, value, pi)\n",
      "100%|███████████████████████████████████████████████████████████████████████████████████████████████████████████████████████████████████████████████████████████████████████████████████| 1031500/1031500 [3:23:35<00:00, 84.44it/s]\n"
     ]
    }
   ],
   "source": [
    "for i in trange (len(tmp_dataset)):\n",
    "    if '>'or  \"<\" in str(tmp_dataset.iloc[i,2]):\n",
    "        tmp_dataset.iloc[i,2]=float(str(tmp_dataset.iloc[i,2])[1:])\n"
   ]
  },
  {
   "cell_type": "code",
   "execution_count": 59,
   "metadata": {
    "collapsed": false,
    "scrolled": true
   },
   "outputs": [
    {
     "name": "stdout",
     "output_type": "stream",
     "text": [
      "lenth of totaldataset: 559009\n",
      "numbers of total mol: 319458\n",
      "numbers of total targets: 3946\n"
     ]
    }
   ],
   "source": [
    "dataset = tmp_dataset[(tmp_dataset['IC50 (nM)']<100)|(tmp_dataset['IC50 (nM)']>10000)]\n",
    "print('lenth of totaldataset:',len(dataset))\n",
    "\n",
    "dataset_mol = list(dataset['mol'].unique())\n",
    "print('numbers of total mol:',len(dataset_mol))\n",
    "\n",
    "dataset_target = list(dataset['Target Name'].unique())\n",
    "print('numbers of total targets:',len(dataset_target))\n",
    "\n",
    "#lenth of totaldataset: 559009\n",
    "#numbers of total mol: 319458\n",
    "#numbers of total targets: 3946"
   ]
  },
  {
   "cell_type": "code",
   "execution_count": 61,
   "metadata": {
    "collapsed": false
   },
   "outputs": [
    {
     "name": "stderr",
     "output_type": "stream",
     "text": [
      "/tmp/ipykernel_397048/206131660.py:1: SettingWithCopyWarning: \n",
      "A value is trying to be set on a copy of a slice from a DataFrame.\n",
      "Try using .loc[row_indexer,col_indexer] = value instead\n",
      "\n",
      "See the caveats in the documentation: https://pandas.pydata.org/pandas-docs/stable/user_guide/indexing.html#returning-a-view-versus-a-copy\n",
      "  dataset['labels'] =1\n"
     ]
    }
   ],
   "source": [
    "dataset['labels'] =1"
   ]
  },
  {
   "cell_type": "code",
   "execution_count": 63,
   "metadata": {
    "collapsed": false
   },
   "outputs": [
    {
     "name": "stderr",
     "output_type": "stream",
     "text": [
      "/home/dqw_zyf/.conda/envs/zyf/lib/python3.9/site-packages/pandas/core/indexing.py:1817: SettingWithCopyWarning: \n",
      "A value is trying to be set on a copy of a slice from a DataFrame.\n",
      "Try using .loc[row_indexer,col_indexer] = value instead\n",
      "\n",
      "See the caveats in the documentation: https://pandas.pydata.org/pandas-docs/stable/user_guide/indexing.html#returning-a-view-versus-a-copy\n",
      "  self._setitem_single_column(loc, value, pi)\n"
     ]
    }
   ],
   "source": [
    "dataset.loc[(dataset[\"IC50 (nM)\"]>10000),['labels']]=0"
   ]
  },
  {
   "cell_type": "code",
   "execution_count": 64,
   "metadata": {
    "collapsed": false
   },
   "outputs": [
    {
     "data": {
      "text/plain": [
       "Counter({1: 293141, 0: 265868})"
      ]
     },
     "execution_count": 64,
     "metadata": {},
     "output_type": "execute_result"
    }
   ],
   "source": [
    "#1: 293141, 0: 265868\n",
    "#正样本 293141  负样本数 265868\n",
    "Counter(dataset['labels'])"
   ]
  },
  {
   "cell_type": "code",
   "execution_count": 65,
   "metadata": {
    "collapsed": true
   },
   "outputs": [],
   "source": [
    "dataset.to_csv('alldata.csv',index=0)"
   ]
  },
  {
   "cell_type": "code",
   "execution_count": 72,
   "metadata": {
    "collapsed": true
   },
   "outputs": [],
   "source": [
    "def quest(dataset,item):\n",
    "    quest_data = dataset[dataset['Curation/DataSource']==item]\n",
    "    print('entries of quest data:', len(quest_data))\n",
    "    quest_data_mol = list(quest_data['mol'].unique())\n",
    "    print('numbers of quest data mol:',len(quest_data_mol))\n",
    "\n",
    "    quest_data_target = list(quest_data['Target Name'].unique())\n",
    "    print('numbers of quest data targets:',len(quest_data_target))\n",
    "    return quest_data,quest_data_mol,quest_data_target"
   ]
  },
  {
   "cell_type": "code",
   "execution_count": 76,
   "metadata": {
    "collapsed": false
   },
   "outputs": [
    {
     "name": "stdout",
     "output_type": "stream",
     "text": [
      "entries of quest data: 33916\n",
      "numbers of quest data mol: 22931\n",
      "numbers of quest data targets: 1131\n"
     ]
    }
   ],
   "source": [
    "#查询BindingDB dataset 数据量\n",
    "dbdata,dbmol,dbtarget = quest(dataset,'Curated from the literature by BindingDB')"
   ]
  },
  {
   "cell_type": "code",
   "execution_count": 74,
   "metadata": {
    "collapsed": false
   },
   "outputs": [
    {
     "name": "stdout",
     "output_type": "stream",
     "text": [
      "entries of quest data: 478922\n",
      "numbers of quest data mol: 273652\n",
      "numbers of quest data targets: 3451\n"
     ]
    }
   ],
   "source": [
    "#查询ChEMBL数据量\n",
    "chdata,chmol,chtarget = quest(dataset,'ChEMBL')"
   ]
  },
  {
   "cell_type": "code",
   "execution_count": 75,
   "metadata": {
    "collapsed": false
   },
   "outputs": [
    {
     "name": "stdout",
     "output_type": "stream",
     "text": [
      "entries of quest data: 46171\n",
      "numbers of quest data mol: 27307\n",
      "numbers of quest data targets: 224\n"
     ]
    }
   ],
   "source": [
    "#查询PubChem数据量\n",
    "pudata,pumol,putarget = quest(dataset,'PubChem')"
   ]
  },
  {
   "cell_type": "code",
   "execution_count": 85,
   "metadata": {
    "collapsed": true
   },
   "outputs": [],
   "source": [
    "def ven(A,B,C):\n",
    "    A = set(A)\n",
    "    B = set(B)\n",
    "    C = set(C)\n",
    "    print('A&B&C:',len(A&B&C))\n",
    "    print('A&B:',len(A&B))\n",
    "    print('A&C:',len(A&C))\n",
    "    print('B&C:',len(B&C))"
   ]
  },
  {
   "cell_type": "code",
   "execution_count": 86,
   "metadata": {
    "collapsed": false
   },
   "outputs": [
    {
     "name": "stdout",
     "output_type": "stream",
     "text": [
      "A&B&C: 88\n",
      "A&B: 3521\n",
      "A&C: 161\n",
      "B&C: 838\n"
     ]
    }
   ],
   "source": [
    "ven(dbmol,chmol,pumol)"
   ]
  },
  {
   "cell_type": "code",
   "execution_count": 87,
   "metadata": {
    "collapsed": false
   },
   "outputs": [
    {
     "name": "stdout",
     "output_type": "stream",
     "text": [
      "A&B&C: 62\n",
      "A&B: 702\n",
      "A&C: 66\n",
      "B&C: 154\n"
     ]
    }
   ],
   "source": [
    "ven(dbtarget,chtarget,putarget)"
   ]
  },
  {
   "cell_type": "code",
   "execution_count": null,
   "metadata": {
    "collapsed": true
   },
   "outputs": [],
   "source": []
  }
 ],
 "metadata": {
  "anaconda-cloud": {},
  "kernelspec": {
   "display_name": "Python [default]",
   "language": "python",
   "name": "python3"
  },
  "language_info": {
   "codemirror_mode": {
    "name": "ipython",
    "version": 3
   },
   "file_extension": ".py",
   "mimetype": "text/x-python",
   "name": "python",
   "nbconvert_exporter": "python",
   "pygments_lexer": "ipython3",
   "version": "3.5.2"
  }
 },
 "nbformat": 4,
 "nbformat_minor": 1
}
