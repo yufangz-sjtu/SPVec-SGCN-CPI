{
 "cells": [
  {
   "cell_type": "code",
   "execution_count": 17,
   "metadata": {
    "collapsed": true
   },
   "outputs": [],
   "source": [
    "import pandas as pd\n",
    "import os \n",
    "import re\n",
    "os.chdir('/home/dqw_zyf/GraphDTI/data')"
   ]
  },
  {
   "cell_type": "code",
   "execution_count": 18,
   "metadata": {
    "collapsed": false
   },
   "outputs": [
    {
     "ename": "ImportError",
     "evalue": "No module named 'gensim'",
     "output_type": "error",
     "traceback": [
      "\u001b[0;31m---------------------------------------------------------------------------\u001b[0m",
      "\u001b[0;31mImportError\u001b[0m                               Traceback (most recent call last)",
      "\u001b[0;32m<ipython-input-18-b2bb852e46cf>\u001b[0m in \u001b[0;36m<module>\u001b[0;34m()\u001b[0m\n\u001b[0;32m----> 1\u001b[0;31m \u001b[0;32mimport\u001b[0m \u001b[0mgensim\u001b[0m\u001b[0;34m\u001b[0m\u001b[0m\n\u001b[0m\u001b[1;32m      2\u001b[0m \u001b[0;32mimport\u001b[0m \u001b[0mjieba\u001b[0m\u001b[0;34m\u001b[0m\u001b[0m\n\u001b[1;32m      3\u001b[0m \u001b[0;32mfrom\u001b[0m \u001b[0mgensim\u001b[0m\u001b[0;34m.\u001b[0m\u001b[0mmodels\u001b[0m \u001b[0;32mimport\u001b[0m \u001b[0mWord2Vec\u001b[0m\u001b[0;34m\u001b[0m\u001b[0m\n\u001b[1;32m      4\u001b[0m \u001b[0;32mimport\u001b[0m \u001b[0mrandom\u001b[0m\u001b[0;34m\u001b[0m\u001b[0m\n",
      "\u001b[0;31mImportError\u001b[0m: No module named 'gensim'"
     ]
    }
   ],
   "source": [
    "import gensim \n",
    "import jieba\n",
    "from gensim.models import Word2Vec \n",
    "import random"
   ]
  },
  {
   "cell_type": "code",
   "execution_count": 13,
   "metadata": {
    "collapsed": true,
    "scrolled": true
   },
   "outputs": [],
   "source": [
    "alldata = pd.read_csv('alldata.csv')#559009"
   ]
  },
  {
   "cell_type": "code",
   "execution_count": 14,
   "metadata": {
    "collapsed": false,
    "scrolled": true
   },
   "outputs": [
    {
     "name": "stdout",
     "output_type": "stream",
     "text": [
      "491718\n"
     ]
    }
   ],
   "source": [
    "#构建dataset\n",
    "alldata = alldata[(alldata['mol'].notna())] #559008\n",
    "print(len(alldata))"
   ]
  },
  {
   "cell_type": "code",
   "execution_count": 15,
   "metadata": {
    "collapsed": true
   },
   "outputs": [],
   "source": [
    "alldata['counts']=alldata['mol'].map(lambda x: x.count('C'))\n",
    "#去掉无机物\n",
    "\n",
    "alldata = alldata[alldata.counts > 3 ].reset_index(drop = True)\n",
    "alldata  = alldata.drop('counts',axis=1) #491718"
   ]
  },
  {
   "cell_type": "code",
   "execution_count": 16,
   "metadata": {
    "collapsed": false
   },
   "outputs": [
    {
     "data": {
      "text/plain": [
       "491718"
      ]
     },
     "execution_count": 16,
     "metadata": {},
     "output_type": "execute_result"
    }
   ],
   "source": [
    "len(alldata)"
   ]
  },
  {
   "cell_type": "code",
   "execution_count": 17,
   "metadata": {
    "collapsed": true
   },
   "outputs": [],
   "source": [
    "vector_size = 100\n",
    "window=3\n",
    "negative = 12\n",
    "\n",
    "\n",
    "def word2vec(vector_size,window,negative,data):\n",
    "    word_vec = pd.DataFrame()\n",
    "    dictionary=[]\n",
    "    Index = []\n",
    "    #data=read_data()\n",
    "    \n",
    "    texts = [[word for word in re.findall(r'.{3}',document)] for document in list(data)]\n",
    "    model = Word2Vec(texts,vector_size=100,window=3,min_count=1,negative=12,sg=1,sample=0.001,hs=1,workers=4)\n",
    "    #model = Word2Vec(texts,window=3,min_count=1,negative=12,sg=1,sample=0.001,hs=1,workers=4)\n",
    "    vectors = pd.DataFrame([model.wv[word] for word in (model.wv.index_to_key)])\n",
    "    #vectors = pd.DataFrame (model.wv.key_to_index)\n",
    "    vectors['Word'] = list(model.wv.index_to_key)\n",
    "\n",
    "    for i in range(len(data)):\n",
    "        Index.append(i)\n",
    "    # Word segmentation\n",
    "    for i in range(len(texts)):\n",
    "        i_word=[]         \n",
    "        for w in range(len(texts[i])):\n",
    "            i_word.append(Index[i])    \n",
    "        dictionary.extend(i_word)\n",
    "    word_vec['Id'] = dictionary\n",
    "\n",
    "    # word vectors generation\n",
    "    dictionary=[]\n",
    "    for i in range(len(texts)):\n",
    "        i_word=[]         \n",
    "        for w in range(len(texts[i])):\n",
    "            i_word.append(texts[i][w])    \n",
    "        dictionary.extend(i_word)\n",
    "    word_vec['Word'] = dictionary\n",
    "    del dictionary,i_word\n",
    "    word_vec = word_vec.merge(vectors,on='Word', how='left')\n",
    "    #word_vec = word_vec.drop('Word',axis=1)\n",
    "    word_vec.columns = ['Id']+['word']+[\"vec_{0}\".format(i) for i in range(0,vector_size)]\n",
    "\n",
    "    return word_vec\n"
   ]
  },
  {
   "cell_type": "code",
   "execution_count": 18,
   "metadata": {
    "collapsed": true
   },
   "outputs": [],
   "source": [
    "def feature_embeddings(dims):\n",
    "    word_vec = word2vec(dims,vector_size,negative_size)\n",
    "    word_vec=word_vec.drop('Word',axis=1)\n",
    "    name = [\"vec_{0}\".format(i) for i in range(0,dims)]\n",
    "    feature_embeddings = pd.DataFrame(word_vec.groupby(['Id'])[name].agg('mean')).reset_index()\n",
    "    feature_embeddings.columns=[\"Index\"]+[\"mean_ci_{0}\".format(i) for i in range(0,dims)]\n",
    "    return feature_embeddings"
   ]
  },
  {
   "cell_type": "code",
   "execution_count": 19,
   "metadata": {
    "collapsed": true
   },
   "outputs": [],
   "source": [
    "#选取ChEMBL+BingdingDB+PubChem数据库作为语料库\n",
    "#corpus1_mol  = alldata[alldata['Curation/DataSource']=='ChEMBL']['mol'].unique()   #244040\n",
    "#corpus1_tar  = alldata[alldata['Curation/DataSource']=='ChEMBL']['BindingDB Target Chain Sequence'].unique() #4532\n",
    "corpus2_mol  = alldata['mol'].unique()   #244040\n",
    "corpus2_tar  = alldata['BindingDB Target Chain Sequence'].unique() #4532\n"
   ]
  },
  {
   "cell_type": "code",
   "execution_count": 22,
   "metadata": {
    "collapsed": true
   },
   "outputs": [],
   "source": [
    "tar_vec = word2vec(vector_size,window,negative,data = corpus2_tar)\n",
    "\n",
    "#tar_vec=tar_vec.drop('word',axis=1)\n",
    "name = [\"vec_{0}\".format(i) for i in range(0,vector_size)]\n",
    "tar_embeddings = pd.DataFrame(tar_vec.groupby(['Id'])[name].agg('mean')).reset_index()\n",
    "tar_embeddings.columns=[\"tar_id\"]+[\"mean_tar_{0}\".format(i) for i in range(0,vector_size)]"
   ]
  },
  {
   "cell_type": "code",
   "execution_count": 23,
   "metadata": {
    "collapsed": true
   },
   "outputs": [],
   "source": [
    "#tar_embeddings  = tar_embeddings.drop(\"Index\",axis=1)\n",
    "tar_embeddings['BindingDB Target Chain Sequence'] = corpus2_tar"
   ]
  },
  {
   "cell_type": "code",
   "execution_count": 24,
   "metadata": {
    "collapsed": false
   },
   "outputs": [
    {
     "data": {
      "text/html": [
       "<div>\n",
       "<style scoped>\n",
       "    .dataframe tbody tr th:only-of-type {\n",
       "        vertical-align: middle;\n",
       "    }\n",
       "\n",
       "    .dataframe tbody tr th {\n",
       "        vertical-align: top;\n",
       "    }\n",
       "\n",
       "    .dataframe thead th {\n",
       "        text-align: right;\n",
       "    }\n",
       "</style>\n",
       "<table border=\"1\" class=\"dataframe\">\n",
       "  <thead>\n",
       "    <tr style=\"text-align: right;\">\n",
       "      <th></th>\n",
       "      <th>tar_id</th>\n",
       "      <th>mean_tar_0</th>\n",
       "      <th>mean_tar_1</th>\n",
       "      <th>mean_tar_2</th>\n",
       "      <th>mean_tar_3</th>\n",
       "      <th>mean_tar_4</th>\n",
       "      <th>mean_tar_5</th>\n",
       "      <th>mean_tar_6</th>\n",
       "      <th>mean_tar_7</th>\n",
       "      <th>mean_tar_8</th>\n",
       "      <th>...</th>\n",
       "      <th>mean_tar_91</th>\n",
       "      <th>mean_tar_92</th>\n",
       "      <th>mean_tar_93</th>\n",
       "      <th>mean_tar_94</th>\n",
       "      <th>mean_tar_95</th>\n",
       "      <th>mean_tar_96</th>\n",
       "      <th>mean_tar_97</th>\n",
       "      <th>mean_tar_98</th>\n",
       "      <th>mean_tar_99</th>\n",
       "      <th>BindingDB Target Chain Sequence</th>\n",
       "    </tr>\n",
       "  </thead>\n",
       "  <tbody>\n",
       "    <tr>\n",
       "      <th>5094</th>\n",
       "      <td>5094</td>\n",
       "      <td>-0.012719</td>\n",
       "      <td>0.275318</td>\n",
       "      <td>0.092908</td>\n",
       "      <td>-0.106578</td>\n",
       "      <td>0.032645</td>\n",
       "      <td>0.096156</td>\n",
       "      <td>0.029102</td>\n",
       "      <td>0.077260</td>\n",
       "      <td>-0.104480</td>\n",
       "      <td>...</td>\n",
       "      <td>0.213128</td>\n",
       "      <td>0.086025</td>\n",
       "      <td>0.342312</td>\n",
       "      <td>-0.077174</td>\n",
       "      <td>-0.092317</td>\n",
       "      <td>-0.221209</td>\n",
       "      <td>-0.150823</td>\n",
       "      <td>0.015575</td>\n",
       "      <td>0.004524</td>\n",
       "      <td>MIRLGAPQTLVLLTLLVAAVLRCQGQDVQEAGSCVQDGQRYNDKDV...</td>\n",
       "    </tr>\n",
       "    <tr>\n",
       "      <th>5095</th>\n",
       "      <td>5095</td>\n",
       "      <td>-0.038878</td>\n",
       "      <td>0.222541</td>\n",
       "      <td>0.135838</td>\n",
       "      <td>-0.019024</td>\n",
       "      <td>0.116351</td>\n",
       "      <td>0.153735</td>\n",
       "      <td>0.044668</td>\n",
       "      <td>-0.051825</td>\n",
       "      <td>-0.122250</td>\n",
       "      <td>...</td>\n",
       "      <td>0.170908</td>\n",
       "      <td>0.103118</td>\n",
       "      <td>0.359449</td>\n",
       "      <td>-0.083759</td>\n",
       "      <td>0.055356</td>\n",
       "      <td>-0.149844</td>\n",
       "      <td>-0.135874</td>\n",
       "      <td>-0.106971</td>\n",
       "      <td>0.031105</td>\n",
       "      <td>MALLHSGRVLPGIAAAFHPGLAAAASARASSWWTHVEMGPPDPILG...</td>\n",
       "    </tr>\n",
       "    <tr>\n",
       "      <th>5096</th>\n",
       "      <td>5096</td>\n",
       "      <td>-0.034275</td>\n",
       "      <td>0.239435</td>\n",
       "      <td>0.130043</td>\n",
       "      <td>-0.040077</td>\n",
       "      <td>0.119818</td>\n",
       "      <td>0.223857</td>\n",
       "      <td>0.004845</td>\n",
       "      <td>-0.080334</td>\n",
       "      <td>-0.108943</td>\n",
       "      <td>...</td>\n",
       "      <td>0.139703</td>\n",
       "      <td>0.115951</td>\n",
       "      <td>0.329525</td>\n",
       "      <td>-0.080442</td>\n",
       "      <td>0.073521</td>\n",
       "      <td>-0.125632</td>\n",
       "      <td>-0.131919</td>\n",
       "      <td>-0.098848</td>\n",
       "      <td>0.035441</td>\n",
       "      <td>MNFIKDNSRALIQRMGMTVIKQITDDLFVWNVLNREEVNIICCEKV...</td>\n",
       "    </tr>\n",
       "    <tr>\n",
       "      <th>5097</th>\n",
       "      <td>5097</td>\n",
       "      <td>-0.067647</td>\n",
       "      <td>0.225892</td>\n",
       "      <td>0.120734</td>\n",
       "      <td>-0.049174</td>\n",
       "      <td>0.129922</td>\n",
       "      <td>0.232445</td>\n",
       "      <td>-0.003036</td>\n",
       "      <td>-0.055368</td>\n",
       "      <td>-0.133887</td>\n",
       "      <td>...</td>\n",
       "      <td>0.141833</td>\n",
       "      <td>0.101546</td>\n",
       "      <td>0.321413</td>\n",
       "      <td>-0.068654</td>\n",
       "      <td>0.077306</td>\n",
       "      <td>-0.140073</td>\n",
       "      <td>-0.104305</td>\n",
       "      <td>-0.100214</td>\n",
       "      <td>0.031025</td>\n",
       "      <td>MSARRQELQDRAIVKIAAHLPDLIVYGDFSPERPSVKCFDGVLMFV...</td>\n",
       "    </tr>\n",
       "    <tr>\n",
       "      <th>5098</th>\n",
       "      <td>5098</td>\n",
       "      <td>-0.049665</td>\n",
       "      <td>0.173407</td>\n",
       "      <td>0.108855</td>\n",
       "      <td>-0.070041</td>\n",
       "      <td>0.072173</td>\n",
       "      <td>0.171251</td>\n",
       "      <td>0.093606</td>\n",
       "      <td>-0.042198</td>\n",
       "      <td>-0.136079</td>\n",
       "      <td>...</td>\n",
       "      <td>0.183476</td>\n",
       "      <td>0.158116</td>\n",
       "      <td>0.363481</td>\n",
       "      <td>-0.092311</td>\n",
       "      <td>0.126279</td>\n",
       "      <td>-0.140826</td>\n",
       "      <td>-0.133228</td>\n",
       "      <td>-0.098072</td>\n",
       "      <td>-0.017329</td>\n",
       "      <td>MKVSAALLCLLLIAATFIPQGLAQPDAINAPVTCCYNFTNRKISVQ...</td>\n",
       "    </tr>\n",
       "  </tbody>\n",
       "</table>\n",
       "<p>5 rows × 102 columns</p>\n",
       "</div>"
      ],
      "text/plain": [
       "      tar_id  mean_tar_0  mean_tar_1  mean_tar_2  mean_tar_3  mean_tar_4  \\\n",
       "5094    5094   -0.012719    0.275318    0.092908   -0.106578    0.032645   \n",
       "5095    5095   -0.038878    0.222541    0.135838   -0.019024    0.116351   \n",
       "5096    5096   -0.034275    0.239435    0.130043   -0.040077    0.119818   \n",
       "5097    5097   -0.067647    0.225892    0.120734   -0.049174    0.129922   \n",
       "5098    5098   -0.049665    0.173407    0.108855   -0.070041    0.072173   \n",
       "\n",
       "      mean_tar_5  mean_tar_6  mean_tar_7  mean_tar_8  ...  mean_tar_91  \\\n",
       "5094    0.096156    0.029102    0.077260   -0.104480  ...     0.213128   \n",
       "5095    0.153735    0.044668   -0.051825   -0.122250  ...     0.170908   \n",
       "5096    0.223857    0.004845   -0.080334   -0.108943  ...     0.139703   \n",
       "5097    0.232445   -0.003036   -0.055368   -0.133887  ...     0.141833   \n",
       "5098    0.171251    0.093606   -0.042198   -0.136079  ...     0.183476   \n",
       "\n",
       "      mean_tar_92  mean_tar_93  mean_tar_94  mean_tar_95  mean_tar_96  \\\n",
       "5094     0.086025     0.342312    -0.077174    -0.092317    -0.221209   \n",
       "5095     0.103118     0.359449    -0.083759     0.055356    -0.149844   \n",
       "5096     0.115951     0.329525    -0.080442     0.073521    -0.125632   \n",
       "5097     0.101546     0.321413    -0.068654     0.077306    -0.140073   \n",
       "5098     0.158116     0.363481    -0.092311     0.126279    -0.140826   \n",
       "\n",
       "      mean_tar_97  mean_tar_98  mean_tar_99  \\\n",
       "5094    -0.150823     0.015575     0.004524   \n",
       "5095    -0.135874    -0.106971     0.031105   \n",
       "5096    -0.131919    -0.098848     0.035441   \n",
       "5097    -0.104305    -0.100214     0.031025   \n",
       "5098    -0.133228    -0.098072    -0.017329   \n",
       "\n",
       "                        BindingDB Target Chain Sequence  \n",
       "5094  MIRLGAPQTLVLLTLLVAAVLRCQGQDVQEAGSCVQDGQRYNDKDV...  \n",
       "5095  MALLHSGRVLPGIAAAFHPGLAAAASARASSWWTHVEMGPPDPILG...  \n",
       "5096  MNFIKDNSRALIQRMGMTVIKQITDDLFVWNVLNREEVNIICCEKV...  \n",
       "5097  MSARRQELQDRAIVKIAAHLPDLIVYGDFSPERPSVKCFDGVLMFV...  \n",
       "5098  MKVSAALLCLLLIAATFIPQGLAQPDAINAPVTCCYNFTNRKISVQ...  \n",
       "\n",
       "[5 rows x 102 columns]"
      ]
     },
     "execution_count": 24,
     "metadata": {},
     "output_type": "execute_result"
    }
   ],
   "source": [
    "tar_embeddings.tail()"
   ]
  },
  {
   "cell_type": "code",
   "execution_count": 25,
   "metadata": {
    "collapsed": false
   },
   "outputs": [
    {
     "ename": "NameError",
     "evalue": "name 'corpus1_mol' is not defined",
     "output_type": "error",
     "traceback": [
      "\u001b[0;31m---------------------------------------------------------------------------\u001b[0m",
      "\u001b[0;31mNameError\u001b[0m                                 Traceback (most recent call last)",
      "Cell \u001b[0;32mIn[25], line 5\u001b[0m\n\u001b[1;32m      3\u001b[0m mol_embeddings \u001b[38;5;241m=\u001b[39m pd\u001b[38;5;241m.\u001b[39mDataFrame(mol_vec\u001b[38;5;241m.\u001b[39mgroupby([\u001b[38;5;124m'\u001b[39m\u001b[38;5;124mId\u001b[39m\u001b[38;5;124m'\u001b[39m])[name]\u001b[38;5;241m.\u001b[39magg(\u001b[38;5;124m'\u001b[39m\u001b[38;5;124mmean\u001b[39m\u001b[38;5;124m'\u001b[39m))\u001b[38;5;241m.\u001b[39mreset_index()\n\u001b[1;32m      4\u001b[0m mol_embeddings\u001b[38;5;241m.\u001b[39mcolumns\u001b[38;5;241m=\u001b[39m[\u001b[38;5;124m\"\u001b[39m\u001b[38;5;124mmol_id\u001b[39m\u001b[38;5;124m\"\u001b[39m]\u001b[38;5;241m+\u001b[39m[\u001b[38;5;124m\"\u001b[39m\u001b[38;5;124mmean_mol_\u001b[39m\u001b[38;5;132;01m{0}\u001b[39;00m\u001b[38;5;124m\"\u001b[39m\u001b[38;5;241m.\u001b[39mformat(i) \u001b[38;5;28;01mfor\u001b[39;00m i \u001b[38;5;129;01min\u001b[39;00m \u001b[38;5;28mrange\u001b[39m(\u001b[38;5;241m0\u001b[39m,vector_size)]\n\u001b[0;32m----> 5\u001b[0m mol_embeddings[\u001b[38;5;124m'\u001b[39m\u001b[38;5;124mmol\u001b[39m\u001b[38;5;124m'\u001b[39m] \u001b[38;5;241m=\u001b[39m \u001b[43mcorpus1_mol\u001b[49m\n\u001b[1;32m      6\u001b[0m \u001b[38;5;66;03m#mol_embeddings  = mol_embeddings.drop(\"mol_id\",axis=1)\u001b[39;00m\n",
      "\u001b[0;31mNameError\u001b[0m: name 'corpus1_mol' is not defined"
     ]
    }
   ],
   "source": [
    "mol_vec = word2vec(vector_size,window,negative,data = corpus2_mol)\n",
    "name = [\"vec_{0}\".format(i) for i in range(0,vector_size)]\n",
    "mol_embeddings = pd.DataFrame(mol_vec.groupby(['Id'])[name].agg('mean')).reset_index()\n",
    "mol_embeddings.columns=[\"mol_id\"]+[\"mean_mol_{0}\".format(i) for i in range(0,vector_size)]\n",
    "mol_embeddings['mol'] = corpus2_mol\n",
    "#mol_embeddings  = mol_embeddings.drop(\"mol_id\",axis=1)"
   ]
  },
  {
   "cell_type": "code",
   "execution_count": 26,
   "metadata": {
    "collapsed": true
   },
   "outputs": [],
   "source": [
    "mol_embeddings['mol'] = corpus2_mol"
   ]
  },
  {
   "cell_type": "code",
   "execution_count": 27,
   "metadata": {
    "collapsed": true
   },
   "outputs": [],
   "source": [
    "#tar_embeddings.to_csv('corpus1_tar_embeddings.csv',index =False)\n",
    "#mol_embeddings.to_csv('corpus1_mol_embeddings.csv',index = False)\n",
    "tar_embeddings.to_csv('corpus2_tar_embeddings.csv',index =False)\n",
    "mol_embeddings.to_csv('corpus2_mol_embeddings.csv',index = False)\n"
   ]
  },
  {
   "cell_type": "code",
   "execution_count": 28,
   "metadata": {
    "collapsed": true
   },
   "outputs": [],
   "source": [
    "alldata.to_csv('alldata.csv',index = False)"
   ]
  },
  {
   "cell_type": "code",
   "execution_count": 29,
   "metadata": {
    "collapsed": false
   },
   "outputs": [
    {
     "data": {
      "text/html": [
       "<div>\n",
       "<style scoped>\n",
       "    .dataframe tbody tr th:only-of-type {\n",
       "        vertical-align: middle;\n",
       "    }\n",
       "\n",
       "    .dataframe tbody tr th {\n",
       "        vertical-align: top;\n",
       "    }\n",
       "\n",
       "    .dataframe thead th {\n",
       "        text-align: right;\n",
       "    }\n",
       "</style>\n",
       "<table border=\"1\" class=\"dataframe\">\n",
       "  <thead>\n",
       "    <tr style=\"text-align: right;\">\n",
       "      <th></th>\n",
       "      <th>mol_id</th>\n",
       "      <th>mean_mol_0</th>\n",
       "      <th>mean_mol_1</th>\n",
       "      <th>mean_mol_2</th>\n",
       "      <th>mean_mol_3</th>\n",
       "      <th>mean_mol_4</th>\n",
       "      <th>mean_mol_5</th>\n",
       "      <th>mean_mol_6</th>\n",
       "      <th>mean_mol_7</th>\n",
       "      <th>mean_mol_8</th>\n",
       "      <th>...</th>\n",
       "      <th>mean_mol_91</th>\n",
       "      <th>mean_mol_92</th>\n",
       "      <th>mean_mol_93</th>\n",
       "      <th>mean_mol_94</th>\n",
       "      <th>mean_mol_95</th>\n",
       "      <th>mean_mol_96</th>\n",
       "      <th>mean_mol_97</th>\n",
       "      <th>mean_mol_98</th>\n",
       "      <th>mean_mol_99</th>\n",
       "      <th>mol</th>\n",
       "    </tr>\n",
       "  </thead>\n",
       "  <tbody>\n",
       "    <tr>\n",
       "      <th>281871</th>\n",
       "      <td>281871</td>\n",
       "      <td>0.041941</td>\n",
       "      <td>0.175699</td>\n",
       "      <td>0.059366</td>\n",
       "      <td>-0.004086</td>\n",
       "      <td>-0.037789</td>\n",
       "      <td>-0.021656</td>\n",
       "      <td>-0.058616</td>\n",
       "      <td>-0.006336</td>\n",
       "      <td>0.078971</td>\n",
       "      <td>...</td>\n",
       "      <td>0.073406</td>\n",
       "      <td>0.014812</td>\n",
       "      <td>0.013325</td>\n",
       "      <td>0.116843</td>\n",
       "      <td>0.017214</td>\n",
       "      <td>0.196944</td>\n",
       "      <td>-0.054805</td>\n",
       "      <td>0.049229</td>\n",
       "      <td>-0.080450</td>\n",
       "      <td>O([C@H]1[C@H](O)[C@@H](O)[C@H](O)[C@@H](CO)O1)...</td>\n",
       "    </tr>\n",
       "    <tr>\n",
       "      <th>281872</th>\n",
       "      <td>281872</td>\n",
       "      <td>-0.007227</td>\n",
       "      <td>0.149411</td>\n",
       "      <td>-0.043619</td>\n",
       "      <td>-0.170785</td>\n",
       "      <td>-0.082687</td>\n",
       "      <td>0.039564</td>\n",
       "      <td>-0.037594</td>\n",
       "      <td>-0.013339</td>\n",
       "      <td>0.118947</td>\n",
       "      <td>...</td>\n",
       "      <td>-0.044760</td>\n",
       "      <td>-0.004789</td>\n",
       "      <td>-0.085263</td>\n",
       "      <td>0.086711</td>\n",
       "      <td>-0.047406</td>\n",
       "      <td>0.220045</td>\n",
       "      <td>-0.050671</td>\n",
       "      <td>0.067193</td>\n",
       "      <td>-0.165913</td>\n",
       "      <td>O(C[C@@H]1[C@@H](O)[C@H](O)[C@@H](O)[C@H](Oc2c...</td>\n",
       "    </tr>\n",
       "    <tr>\n",
       "      <th>281873</th>\n",
       "      <td>281873</td>\n",
       "      <td>0.022933</td>\n",
       "      <td>0.169662</td>\n",
       "      <td>-0.023590</td>\n",
       "      <td>-0.144657</td>\n",
       "      <td>-0.104247</td>\n",
       "      <td>0.001381</td>\n",
       "      <td>-0.053712</td>\n",
       "      <td>-0.041902</td>\n",
       "      <td>0.125689</td>\n",
       "      <td>...</td>\n",
       "      <td>0.060111</td>\n",
       "      <td>0.008148</td>\n",
       "      <td>-0.083598</td>\n",
       "      <td>0.096347</td>\n",
       "      <td>-0.036316</td>\n",
       "      <td>0.224573</td>\n",
       "      <td>-0.021006</td>\n",
       "      <td>0.092585</td>\n",
       "      <td>-0.132709</td>\n",
       "      <td>O(C[C@@H]1[C@@H](O)[C@H](O)[C@@H](O)[C@H](Oc2c...</td>\n",
       "    </tr>\n",
       "    <tr>\n",
       "      <th>281874</th>\n",
       "      <td>281874</td>\n",
       "      <td>0.029901</td>\n",
       "      <td>0.164326</td>\n",
       "      <td>0.051684</td>\n",
       "      <td>-0.013896</td>\n",
       "      <td>-0.017539</td>\n",
       "      <td>-0.004060</td>\n",
       "      <td>-0.074515</td>\n",
       "      <td>0.018421</td>\n",
       "      <td>0.063137</td>\n",
       "      <td>...</td>\n",
       "      <td>0.043103</td>\n",
       "      <td>0.034345</td>\n",
       "      <td>0.031916</td>\n",
       "      <td>0.112153</td>\n",
       "      <td>-0.004132</td>\n",
       "      <td>0.223699</td>\n",
       "      <td>-0.047207</td>\n",
       "      <td>0.091703</td>\n",
       "      <td>-0.103646</td>\n",
       "      <td>O(Cc1c(O)c2C(=O)c3c(C(=O)c2cc1O)cccc3)[C@H]1[C...</td>\n",
       "    </tr>\n",
       "    <tr>\n",
       "      <th>281875</th>\n",
       "      <td>281875</td>\n",
       "      <td>-0.039832</td>\n",
       "      <td>0.126128</td>\n",
       "      <td>0.043430</td>\n",
       "      <td>-0.154752</td>\n",
       "      <td>-0.004561</td>\n",
       "      <td>0.023689</td>\n",
       "      <td>-0.049957</td>\n",
       "      <td>0.086389</td>\n",
       "      <td>0.092846</td>\n",
       "      <td>...</td>\n",
       "      <td>-0.063494</td>\n",
       "      <td>0.013401</td>\n",
       "      <td>-0.004960</td>\n",
       "      <td>0.069559</td>\n",
       "      <td>-0.012962</td>\n",
       "      <td>0.265099</td>\n",
       "      <td>-0.136502</td>\n",
       "      <td>0.073263</td>\n",
       "      <td>-0.133685</td>\n",
       "      <td>O(C)c1cc2C(=O)c3c(c(O)c(CO)c(O[C@H]4[C@H](O)[C...</td>\n",
       "    </tr>\n",
       "  </tbody>\n",
       "</table>\n",
       "<p>5 rows × 102 columns</p>\n",
       "</div>"
      ],
      "text/plain": [
       "        mol_id  mean_mol_0  mean_mol_1  mean_mol_2  mean_mol_3  mean_mol_4  \\\n",
       "281871  281871    0.041941    0.175699    0.059366   -0.004086   -0.037789   \n",
       "281872  281872   -0.007227    0.149411   -0.043619   -0.170785   -0.082687   \n",
       "281873  281873    0.022933    0.169662   -0.023590   -0.144657   -0.104247   \n",
       "281874  281874    0.029901    0.164326    0.051684   -0.013896   -0.017539   \n",
       "281875  281875   -0.039832    0.126128    0.043430   -0.154752   -0.004561   \n",
       "\n",
       "        mean_mol_5  mean_mol_6  mean_mol_7  mean_mol_8  ...  mean_mol_91  \\\n",
       "281871   -0.021656   -0.058616   -0.006336    0.078971  ...     0.073406   \n",
       "281872    0.039564   -0.037594   -0.013339    0.118947  ...    -0.044760   \n",
       "281873    0.001381   -0.053712   -0.041902    0.125689  ...     0.060111   \n",
       "281874   -0.004060   -0.074515    0.018421    0.063137  ...     0.043103   \n",
       "281875    0.023689   -0.049957    0.086389    0.092846  ...    -0.063494   \n",
       "\n",
       "        mean_mol_92  mean_mol_93  mean_mol_94  mean_mol_95  mean_mol_96  \\\n",
       "281871     0.014812     0.013325     0.116843     0.017214     0.196944   \n",
       "281872    -0.004789    -0.085263     0.086711    -0.047406     0.220045   \n",
       "281873     0.008148    -0.083598     0.096347    -0.036316     0.224573   \n",
       "281874     0.034345     0.031916     0.112153    -0.004132     0.223699   \n",
       "281875     0.013401    -0.004960     0.069559    -0.012962     0.265099   \n",
       "\n",
       "        mean_mol_97  mean_mol_98  mean_mol_99  \\\n",
       "281871    -0.054805     0.049229    -0.080450   \n",
       "281872    -0.050671     0.067193    -0.165913   \n",
       "281873    -0.021006     0.092585    -0.132709   \n",
       "281874    -0.047207     0.091703    -0.103646   \n",
       "281875    -0.136502     0.073263    -0.133685   \n",
       "\n",
       "                                                      mol  \n",
       "281871  O([C@H]1[C@H](O)[C@@H](O)[C@H](O)[C@@H](CO)O1)...  \n",
       "281872  O(C[C@@H]1[C@@H](O)[C@H](O)[C@@H](O)[C@H](Oc2c...  \n",
       "281873  O(C[C@@H]1[C@@H](O)[C@H](O)[C@@H](O)[C@H](Oc2c...  \n",
       "281874  O(Cc1c(O)c2C(=O)c3c(C(=O)c2cc1O)cccc3)[C@H]1[C...  \n",
       "281875  O(C)c1cc2C(=O)c3c(c(O)c(CO)c(O[C@H]4[C@H](O)[C...  \n",
       "\n",
       "[5 rows x 102 columns]"
      ]
     },
     "execution_count": 29,
     "metadata": {},
     "output_type": "execute_result"
    }
   ],
   "source": [
    "mol_embeddings.tail()"
   ]
  },
  {
   "cell_type": "code",
   "execution_count": null,
   "metadata": {
    "collapsed": true
   },
   "outputs": [],
   "source": [
    "#NS5\n",
    "'EFGKAKGSRAIWYMWLGARFLEFEALGFLNEDHWMGRENSGGGVEGLGLQRLGYVLEEMSRIPGGRMYADDTAGWDTRISRFDLENEALITNQMEKGHRALALAIIKYTYQNKV\\n\n",
    " VKVLRPAEKGKTVMDIISRQDQRGSGQVVTYALNTFTNLVVQLIRNMEAEEVLEMQDLWLLRRSEKVTNWLQSNGWDRLKRMAVSGDDCVVKPIDDRFAHALRFLNDMG\\n\n",
    "   KVRKDTQEWKPSTGWDNWEEVPFCSHHFNKLHLKDGRSIVVPCRHQDELIGRARVSPGAGWSIRETACLAKSYAQMWQLLYFHRRDLRLMANAICSSVPVDWVPTGRTTWSIHGKGE'"
   ]
  },
  {
   "cell_type": "code",
   "execution_count": 4,
   "metadata": {
    "collapsed": false
   },
   "outputs": [],
   "source": [
    "tar_embeddings = pd.read_csv('corpus2_tar_embeddings.csv')"
   ]
  },
  {
   "cell_type": "code",
   "execution_count": 5,
   "metadata": {
    "collapsed": false
   },
   "outputs": [
    {
     "data": {
      "text/html": [
       "<div>\n",
       "<style scoped>\n",
       "    .dataframe tbody tr th:only-of-type {\n",
       "        vertical-align: middle;\n",
       "    }\n",
       "\n",
       "    .dataframe tbody tr th {\n",
       "        vertical-align: top;\n",
       "    }\n",
       "\n",
       "    .dataframe thead th {\n",
       "        text-align: right;\n",
       "    }\n",
       "</style>\n",
       "<table border=\"1\" class=\"dataframe\">\n",
       "  <thead>\n",
       "    <tr style=\"text-align: right;\">\n",
       "      <th></th>\n",
       "      <th>tar_id</th>\n",
       "      <th>mean_tar_0</th>\n",
       "      <th>mean_tar_1</th>\n",
       "      <th>mean_tar_2</th>\n",
       "      <th>mean_tar_3</th>\n",
       "      <th>mean_tar_4</th>\n",
       "      <th>mean_tar_5</th>\n",
       "      <th>mean_tar_6</th>\n",
       "      <th>mean_tar_7</th>\n",
       "      <th>mean_tar_8</th>\n",
       "      <th>...</th>\n",
       "      <th>mean_tar_91</th>\n",
       "      <th>mean_tar_92</th>\n",
       "      <th>mean_tar_93</th>\n",
       "      <th>mean_tar_94</th>\n",
       "      <th>mean_tar_95</th>\n",
       "      <th>mean_tar_96</th>\n",
       "      <th>mean_tar_97</th>\n",
       "      <th>mean_tar_98</th>\n",
       "      <th>mean_tar_99</th>\n",
       "      <th>BindingDB Target Chain Sequence</th>\n",
       "    </tr>\n",
       "  </thead>\n",
       "  <tbody>\n",
       "    <tr>\n",
       "      <th>0</th>\n",
       "      <td>0</td>\n",
       "      <td>0.028382</td>\n",
       "      <td>0.258349</td>\n",
       "      <td>0.084484</td>\n",
       "      <td>-0.047875</td>\n",
       "      <td>0.129138</td>\n",
       "      <td>0.124458</td>\n",
       "      <td>0.009141</td>\n",
       "      <td>-0.022629</td>\n",
       "      <td>-0.098500</td>\n",
       "      <td>...</td>\n",
       "      <td>0.190733</td>\n",
       "      <td>0.132939</td>\n",
       "      <td>0.380325</td>\n",
       "      <td>-0.109288</td>\n",
       "      <td>0.105654</td>\n",
       "      <td>-0.217573</td>\n",
       "      <td>-0.108054</td>\n",
       "      <td>-0.099446</td>\n",
       "      <td>0.019375</td>\n",
       "      <td>PQITLWQRPL VTIKIGGQLK EALLDTGADD TVLEEMNLPG RW...</td>\n",
       "    </tr>\n",
       "    <tr>\n",
       "      <th>1</th>\n",
       "      <td>1</td>\n",
       "      <td>0.029465</td>\n",
       "      <td>0.262882</td>\n",
       "      <td>0.080848</td>\n",
       "      <td>-0.052415</td>\n",
       "      <td>0.142362</td>\n",
       "      <td>0.111432</td>\n",
       "      <td>0.005006</td>\n",
       "      <td>-0.023507</td>\n",
       "      <td>-0.090406</td>\n",
       "      <td>...</td>\n",
       "      <td>0.186500</td>\n",
       "      <td>0.131415</td>\n",
       "      <td>0.377519</td>\n",
       "      <td>-0.114872</td>\n",
       "      <td>0.113332</td>\n",
       "      <td>-0.207250</td>\n",
       "      <td>-0.119483</td>\n",
       "      <td>-0.105467</td>\n",
       "      <td>0.023274</td>\n",
       "      <td>PQITLWQRPL VTIKIGGQLK EALLDTGADD TVLEEMSLPG RW...</td>\n",
       "    </tr>\n",
       "    <tr>\n",
       "      <th>2</th>\n",
       "      <td>2</td>\n",
       "      <td>-0.020833</td>\n",
       "      <td>0.211167</td>\n",
       "      <td>0.068523</td>\n",
       "      <td>-0.020104</td>\n",
       "      <td>0.086222</td>\n",
       "      <td>0.200455</td>\n",
       "      <td>-0.000080</td>\n",
       "      <td>-0.137738</td>\n",
       "      <td>-0.027405</td>\n",
       "      <td>...</td>\n",
       "      <td>0.078893</td>\n",
       "      <td>0.084825</td>\n",
       "      <td>0.258192</td>\n",
       "      <td>-0.072125</td>\n",
       "      <td>0.062576</td>\n",
       "      <td>-0.157971</td>\n",
       "      <td>-0.082105</td>\n",
       "      <td>-0.073030</td>\n",
       "      <td>-0.056679</td>\n",
       "      <td>PQFSLWKRPV VTAYIEGQPV EVLLDTGADD SIVAGIELGN NY...</td>\n",
       "    </tr>\n",
       "    <tr>\n",
       "      <th>3</th>\n",
       "      <td>3</td>\n",
       "      <td>-0.059700</td>\n",
       "      <td>0.275516</td>\n",
       "      <td>0.189792</td>\n",
       "      <td>-0.019265</td>\n",
       "      <td>0.114139</td>\n",
       "      <td>0.230459</td>\n",
       "      <td>-0.004973</td>\n",
       "      <td>-0.029325</td>\n",
       "      <td>-0.079160</td>\n",
       "      <td>...</td>\n",
       "      <td>0.119733</td>\n",
       "      <td>0.012204</td>\n",
       "      <td>0.374560</td>\n",
       "      <td>-0.124122</td>\n",
       "      <td>0.015532</td>\n",
       "      <td>-0.178388</td>\n",
       "      <td>-0.150244</td>\n",
       "      <td>-0.133766</td>\n",
       "      <td>-0.058527</td>\n",
       "      <td>PISPIETVPV KLKPGMDGPK VKQWPLTEEK IKALVEICTE ME...</td>\n",
       "    </tr>\n",
       "    <tr>\n",
       "      <th>4</th>\n",
       "      <td>4</td>\n",
       "      <td>-0.082903</td>\n",
       "      <td>0.226635</td>\n",
       "      <td>0.105320</td>\n",
       "      <td>-0.111637</td>\n",
       "      <td>0.138109</td>\n",
       "      <td>0.185506</td>\n",
       "      <td>-0.007795</td>\n",
       "      <td>0.017392</td>\n",
       "      <td>-0.087893</td>\n",
       "      <td>...</td>\n",
       "      <td>0.150620</td>\n",
       "      <td>0.116129</td>\n",
       "      <td>0.405553</td>\n",
       "      <td>-0.051197</td>\n",
       "      <td>0.018855</td>\n",
       "      <td>-0.186015</td>\n",
       "      <td>-0.175932</td>\n",
       "      <td>-0.131321</td>\n",
       "      <td>0.020372</td>\n",
       "      <td>PQVTLWQRPLVTIKIGGQLKEALLDTGADDTVLEEMSLPGRWKPKM...</td>\n",
       "    </tr>\n",
       "  </tbody>\n",
       "</table>\n",
       "<p>5 rows × 102 columns</p>\n",
       "</div>"
      ],
      "text/plain": [
       "   tar_id  mean_tar_0  mean_tar_1  mean_tar_2  mean_tar_3  mean_tar_4  \\\n",
       "0       0    0.028382    0.258349    0.084484   -0.047875    0.129138   \n",
       "1       1    0.029465    0.262882    0.080848   -0.052415    0.142362   \n",
       "2       2   -0.020833    0.211167    0.068523   -0.020104    0.086222   \n",
       "3       3   -0.059700    0.275516    0.189792   -0.019265    0.114139   \n",
       "4       4   -0.082903    0.226635    0.105320   -0.111637    0.138109   \n",
       "\n",
       "   mean_tar_5  mean_tar_6  mean_tar_7  mean_tar_8  ...  mean_tar_91  \\\n",
       "0    0.124458    0.009141   -0.022629   -0.098500  ...     0.190733   \n",
       "1    0.111432    0.005006   -0.023507   -0.090406  ...     0.186500   \n",
       "2    0.200455   -0.000080   -0.137738   -0.027405  ...     0.078893   \n",
       "3    0.230459   -0.004973   -0.029325   -0.079160  ...     0.119733   \n",
       "4    0.185506   -0.007795    0.017392   -0.087893  ...     0.150620   \n",
       "\n",
       "   mean_tar_92  mean_tar_93  mean_tar_94  mean_tar_95  mean_tar_96  \\\n",
       "0     0.132939     0.380325    -0.109288     0.105654    -0.217573   \n",
       "1     0.131415     0.377519    -0.114872     0.113332    -0.207250   \n",
       "2     0.084825     0.258192    -0.072125     0.062576    -0.157971   \n",
       "3     0.012204     0.374560    -0.124122     0.015532    -0.178388   \n",
       "4     0.116129     0.405553    -0.051197     0.018855    -0.186015   \n",
       "\n",
       "   mean_tar_97  mean_tar_98  mean_tar_99  \\\n",
       "0    -0.108054    -0.099446     0.019375   \n",
       "1    -0.119483    -0.105467     0.023274   \n",
       "2    -0.082105    -0.073030    -0.056679   \n",
       "3    -0.150244    -0.133766    -0.058527   \n",
       "4    -0.175932    -0.131321     0.020372   \n",
       "\n",
       "                     BindingDB Target Chain Sequence  \n",
       "0  PQITLWQRPL VTIKIGGQLK EALLDTGADD TVLEEMNLPG RW...  \n",
       "1  PQITLWQRPL VTIKIGGQLK EALLDTGADD TVLEEMSLPG RW...  \n",
       "2  PQFSLWKRPV VTAYIEGQPV EVLLDTGADD SIVAGIELGN NY...  \n",
       "3  PISPIETVPV KLKPGMDGPK VKQWPLTEEK IKALVEICTE ME...  \n",
       "4  PQVTLWQRPLVTIKIGGQLKEALLDTGADDTVLEEMSLPGRWKPKM...  \n",
       "\n",
       "[5 rows x 102 columns]"
      ]
     },
     "execution_count": 5,
     "metadata": {},
     "output_type": "execute_result"
    }
   ],
   "source": [
    "tar_embeddings.head()"
   ]
  },
  {
   "cell_type": "code",
   "execution_count": 6,
   "metadata": {
    "collapsed": false
   },
   "outputs": [
    {
     "data": {
      "text/plain": [
       "5099"
      ]
     },
     "execution_count": 6,
     "metadata": {},
     "output_type": "execute_result"
    }
   ],
   "source": [
    "len(tar_embeddings)"
   ]
  },
  {
   "cell_type": "code",
   "execution_count": 15,
   "metadata": {
    "collapsed": false
   },
   "outputs": [],
   "source": [
    "for i,seq in zip(list(tar_embeddings['tar_id']),list(tar_embeddings['BindingDB Target Chain Sequence'])):\n",
    "    if 'EFGKAKGSRAIWYMWLGARFLEFEALGFLNEDHWMGRENSGGGVEGLGLQRLGYVLEEMS' in seq:\n",
    "        print(i)\n",
    "        print(seq)\n",
    "        "
   ]
  },
  {
   "cell_type": "code",
   "execution_count": null,
   "metadata": {
    "collapsed": true
   },
   "outputs": [],
   "source": [
    "query_seq = 'EFGKAKGSRA IWYMWLGARF LEFEALGFLN EDHWMGRENS GGGVEGLGLQ RLGYVLEEMS \\n\n",
    "             RIPGGRMYAD DTAGWDTRIS RFDLENEALI TNQMEKGHRA LALAIIKYTY QNKVVKVLRP \\n\n",
    "     AEKGKTVMDI ISRQDQRGSG QVVTYALNTF TNLVVQLIRN MEAEEVLEMQ DLWLLRRSEK \\n\n",
    "     VTNWLQSNGW DRLKRMAVSG DDCVVKPIDD RFAHALRFLN DMGKVRKDTQ EWKPSTGWDN \\n\n",
    "     WEEVPFCSHH FNKLHLKDGR SIVVPCRHQD ELIGRARVSP GAGWSIRETA CLAKSYAQMW \\n\n",
    "     QLLYFHRRDL RLMANAICSS VPVDWVPTGR TTWSIHGKGE'"
   ]
  }
 ],
 "metadata": {
  "anaconda-cloud": {},
  "kernelspec": {
   "display_name": "Python [default]",
   "language": "python",
   "name": "python3"
  },
  "language_info": {
   "codemirror_mode": {
    "name": "ipython",
    "version": 3
   },
   "file_extension": ".py",
   "mimetype": "text/x-python",
   "name": "python",
   "nbconvert_exporter": "python",
   "pygments_lexer": "ipython3",
   "version": "3.5.2"
  }
 },
 "nbformat": 4,
 "nbformat_minor": 5
}
