{
 "cells": [
  {
   "cell_type": "markdown",
   "metadata": {},
   "source": [
    "# compared with machine learning methods"
   ]
  },
  {
   "cell_type": "code",
   "execution_count": 11,
   "metadata": {
    "collapsed": true
   },
   "outputs": [],
   "source": [
    "import numpy as np\n",
    "import os\n",
    "\n",
    "from sklearn.ensemble import RandomForestClassifier\n",
    "from sklearn.ensemble import GradientBoostingClassifier\n",
    "from sklearn.svm import SVC\n",
    "from sklearn.neural_network import MLPClassifier\n",
    "from sklearn.model_selection import cross_val_predict\n",
    "from sklearn.metrics import confusion_matrix\n",
    "from sklearn.metrics import roc_auc_score, auc\n",
    "from sklearn.metrics import precision_recall_fscore_support\n",
    "from sklearn.metrics import precision_recall_curve\n",
    "from sklearn.metrics import classification_report\n",
    "import math\n",
    "import datetime\n",
    "import multiprocessing as mp\n",
    "from sklearn.model_selection import train_test_split"
   ]
  },
  {
   "cell_type": "code",
   "execution_count": 12,
   "metadata": {
    "collapsed": true
   },
   "outputs": [],
   "source": [
    "import pandas as pd"
   ]
  },
  {
   "cell_type": "code",
   "execution_count": 13,
   "metadata": {
    "collapsed": false
   },
   "outputs": [
    {
     "name": "stdout",
     "output_type": "stream",
     "text": [
      "462361\n",
      "462361\n",
      "462361\n"
     ]
    }
   ],
   "source": [
    "os.getcwd()\n",
    "\n",
    "os.chdir('/home/dqw_zyf/GraphDTI/data')\n",
    "\n",
    "alldata = pd.read_csv('alldata.csv') #491718\n",
    "tar_embeddings = pd.read_csv('corpus2_tar_embeddings.csv')\n",
    "mol_embeddings = pd.read_csv('corpus2_mol_embeddings.csv')\n",
    "\n",
    "alldata.drop_duplicates(inplace = True)\n",
    "alldata = alldata[(alldata.notna())] #462361\n",
    "\n",
    "data = pd.merge(alldata,tar_embeddings)\n",
    "print(len(data))\n",
    "data1 = pd.merge(data,mol_embeddings)\n",
    "print(len(data1))\n",
    "data1.drop_duplicates(inplace = True)\n",
    "data1 = data1[(data1.notna())] #462361\n",
    "print(len(data1))"
   ]
  },
  {
   "cell_type": "code",
   "execution_count": 14,
   "metadata": {
    "collapsed": true
   },
   "outputs": [],
   "source": [
    "data1 = data1.drop('mol_id',axis=1)\n",
    "# 进行训练、验证和测试集划分\n",
    "train = data1[data1['Curation/DataSource']=='ChEMBL']##399553\n",
    "val = data1[data1['Curation/DataSource']=='Curated from the literature by BindingDB'] ##27899\n",
    "test =  data1[data1['Curation/DataSource']=='PubChem'] ##34909\n"
   ]
  },
  {
   "cell_type": "code",
   "execution_count": 15,
   "metadata": {
    "collapsed": true
   },
   "outputs": [],
   "source": [
    "train_feature = train.iloc[:,9:209]\n",
    "train_label = train.iloc[:,7]\n",
    "test_BD_feature = val.iloc[:,9:209]\n",
    "test_BD_label = val.iloc[:,7]"
   ]
  },
  {
   "cell_type": "code",
   "execution_count": 16,
   "metadata": {
    "collapsed": false
   },
   "outputs": [],
   "source": [
    "\n",
    "def ml_classifiers(x,y,test_x,test_y): \n",
    "   \n",
    "    \n",
    "    \"----------------------------------五折交叉验证-----------------------------------------------\"   \n",
    "\n",
    "    for seed in [1,2,3,4,5]:\n",
    "        X_train, X_test, Y_train, Y_test = train_test_split(x, y, test_size=0.2, random_state=seed)\n",
    "\n",
    "        fit_clf = clf.fit(X_train, Y_train)\n",
    "    \n",
    "        y_pred = fit_clf.predict(X_test)\n",
    "        y_prob = fit_clf.predict_proba(X_test)\n",
    "\n",
    "        prec_reca_f1_supp_report = classification_report(Y_test, y_pred, target_names = ['label_0', 'label_1'])\n",
    "        tn, fp, fn, tp = confusion_matrix(Y_test, y_pred).ravel()\n",
    "        accuracy = (tp+tn)/(tp+fp+tn+fn)\n",
    "        recall = tp / (tp+fn)\n",
    "        precision = tp / (tp+fp)\n",
    "        f1 = 2*precision*recall / (precision+recall)\n",
    "        roc_auc = roc_auc_score(Y_test, y_prob[:, 1])\n",
    "        prec, reca, _ = precision_recall_curve(Y_test, y_prob[:, 1])\n",
    "        aupr = auc(reca, prec)\n",
    "             \n",
    "        '--------------------------------------------打印&输出--------------------------------------------------------------'   \n",
    "   \n",
    "        print('{}折交叉验证'.format(seed))\n",
    "        print('acc={:.4f}|precision={:.4f}|recall={:.4f}|f1={:.4f}|auc={:.4f}|aupr={:.4f}'\n",
    "                 .format(accuracy, precision, recall, f1, roc_auc, aupr))\n",
    "        print('tn = {}, fp = {}, fn = {}, tp = {}'.format(tn, fp, fn, tp))\n",
    "        print('-----------------------------------------------------------------')\n",
    "    \n",
    "\n",
    "\n",
    "        '--------------------------------------------独立测试集评估--------------------------------------------------------------'\n",
    "\n",
    "        test_y_pred = fit_clf.predict(test_x)\n",
    "        test_y_prob = fit_clf.predict_proba(test_x)\n",
    "        \n",
    "        prec_reca_f1_supp_report = classification_report(test_y, test_y_pred, target_names = ['label_0', 'label_1'])\n",
    "        tn, fp, fn, tp = confusion_matrix(test_y, test_y_pred).ravel()\n",
    "        accuracy = (tp+tn)/(tp+fp+tn+fn)\n",
    "        recall = tp / (tp+fn)\n",
    "        precision = tp / (tp+fp)\n",
    "        f1 = 2*precision*recall / (precision+recall)\n",
    "        roc_auc = roc_auc_score(test_y, test_y_prob[:, 1])\n",
    "        prec, reca, _ = precision_recall_curve(test_y, test_y_prob[:, 1])\n",
    "        aupr = auc(reca, prec)\n",
    "\n",
    "        print('acc={:.4f}|precision={:.4f}|recall={:.4f}|f1={:.4f}|auc={:.4f}|aupr={:.4f}'.format(accuracy, precision, recall, f1, roc_auc, aupr))\n",
    "        print('tn = {}, fp = {}, fn = {}, tp = {}'.format(tn, fp, fn, tp))\n",
    "        print('-----------------------------------------------------------------')\n",
    "        \n"
   ]
  },
  {
   "cell_type": "code",
   "execution_count": 21,
   "metadata": {
    "collapsed": false,
    "scrolled": true
   },
   "outputs": [
    {
     "name": "stdout",
     "output_type": "stream",
     "text": [
      "1折交叉验证\n",
      "acc=0.9119|precision=0.9113|recall=0.9437|f1=0.9272|auc=0.9660|aupr=0.9745\n",
      "tn = 28010, fp = 4366, fn = 2678, tp = 44857\n",
      "-----------------------------------------------------------------\n",
      "acc=0.7749|precision=0.8066|recall=0.7218|f1=0.7618|auc=0.8713|aupr=0.8761\n",
      "tn = 11573, fp = 2409, fn = 3872, tp = 10045\n",
      "-----------------------------------------------------------------\n",
      "2折交叉验证\n",
      "acc=0.9101|precision=0.9092|recall=0.9426|f1=0.9256|auc=0.9662|aupr=0.9743\n",
      "tn = 28042, fp = 4465, fn = 2719, tp = 44685\n",
      "-----------------------------------------------------------------\n",
      "acc=0.7722|precision=0.8069|recall=0.7142|f1=0.7577|auc=0.8675|aupr=0.8733\n",
      "tn = 11603, fp = 2379, fn = 3977, tp = 9940\n",
      "-----------------------------------------------------------------\n",
      "3折交叉验证\n",
      "acc=0.9107|precision=0.9115|recall=0.9414|f1=0.9262|auc=0.9656|aupr=0.9739\n",
      "tn = 27998, fp = 4350, fn = 2786, tp = 44777\n",
      "-----------------------------------------------------------------\n",
      "acc=0.7779|precision=0.8081|recall=0.7275|f1=0.7657|auc=0.8698|aupr=0.8744\n",
      "tn = 11578, fp = 2404, fn = 3792, tp = 10125\n",
      "-----------------------------------------------------------------\n",
      "4折交叉验证\n",
      "acc=0.9122|precision=0.9106|recall=0.9448|f1=0.9274|auc=0.9666|aupr=0.9749\n",
      "tn = 28063, fp = 4399, fn = 2618, tp = 44831\n",
      "-----------------------------------------------------------------\n",
      "acc=0.7779|precision=0.8093|recall=0.7259|f1=0.7653|auc=0.8704|aupr=0.8758\n",
      "tn = 11601, fp = 2381, fn = 3814, tp = 10103\n",
      "-----------------------------------------------------------------\n",
      "5折交叉验证\n",
      "acc=0.9120|precision=0.9115|recall=0.9437|f1=0.9273|auc=0.9665|aupr=0.9747\n",
      "tn = 28019, fp = 4355, fn = 2678, tp = 44859\n",
      "-----------------------------------------------------------------\n",
      "acc=0.7708|precision=0.8052|recall=0.7129|f1=0.7563|auc=0.8654|aupr=0.8730\n",
      "tn = 11582, fp = 2400, fn = 3995, tp = 9922\n",
      "-----------------------------------------------------------------\n"
     ]
    }
   ],
   "source": [
    "#names =['SVM','RF','GBDT','DNN']\n",
    "\n",
    "names =['RF']\n",
    "#Classifier = [SVC(gamma=2, C=1, random_state=42,probability=True),RandomForestClassifier(random_state=43),\n",
    "              #GradientBoostingClassifier( random_state=44),MLPClassifier(alpha=1, max_iter=1000,random_state =45)]\n",
    "Classifier = [RandomForestClassifier(random_state=43)]\n",
    "              \n",
    "for name,clf in zip(names,Classifier):\n",
    "        ml_classifiers(train_feature,train_label,test_BD_feature,test_BD_label )"
   ]
  },
  {
   "cell_type": "code",
   "execution_count": 9,
   "metadata": {
    "collapsed": false,
    "scrolled": true
   },
   "outputs": [
    {
     "name": "stdout",
     "output_type": "stream",
     "text": [
      "1折交叉验证\n",
      "acc=0.7668|precision=0.7613|recall=0.8856|f1=0.8187|auc=0.8393|aupr=0.8730\n",
      "tn = 19177, fp = 13199, fn = 5439, tp = 42096\n",
      "-----------------------------------------------------------------\n",
      "acc=0.6881|precision=0.6505|recall=0.8097|f1=0.7214|auc=0.7743|aupr=0.7716\n",
      "tn = 7929, fp = 6053, fn = 2649, tp = 11268\n",
      "-----------------------------------------------------------------\n",
      "2折交叉验证\n",
      "acc=0.7669|precision=0.7605|recall=0.8860|f1=0.8185|auc=0.8400|aupr=0.8723\n",
      "tn = 19283, fp = 13224, fn = 5404, tp = 42000\n",
      "-----------------------------------------------------------------\n",
      "acc=0.6762|precision=0.6484|recall=0.7664|f1=0.7025|auc=0.7673|aupr=0.7712\n",
      "tn = 8198, fp = 5784, fn = 3251, tp = 10666\n",
      "-----------------------------------------------------------------\n",
      "3折交叉验证\n",
      "acc=0.7682|precision=0.7628|recall=0.8862|f1=0.8198|auc=0.8399|aupr=0.8728\n",
      "tn = 19239, fp = 13109, fn = 5415, tp = 42148\n",
      "-----------------------------------------------------------------\n",
      "acc=0.6932|precision=0.6576|recall=0.8032|f1=0.7231|auc=0.7797|aupr=0.7752\n",
      "tn = 8162, fp = 5820, fn = 2739, tp = 11178\n",
      "-----------------------------------------------------------------\n",
      "4折交叉验证\n",
      "acc=0.7683|precision=0.7629|recall=0.8847|f1=0.8193|auc=0.8421|aupr=0.8747\n",
      "tn = 19417, fp = 13045, fn = 5470, tp = 41979\n",
      "-----------------------------------------------------------------\n",
      "acc=0.6830|precision=0.6496|recall=0.7911|f1=0.7134|auc=0.7718|aupr=0.7703\n",
      "tn = 8044, fp = 5938, fn = 2907, tp = 11010\n",
      "-----------------------------------------------------------------\n",
      "5折交叉验证\n",
      "acc=0.7672|precision=0.7624|recall=0.8842|f1=0.8188|auc=0.8395|aupr=0.8724\n",
      "tn = 19273, fp = 13101, fn = 5505, tp = 42032\n",
      "-----------------------------------------------------------------\n",
      "acc=0.6937|precision=0.6560|recall=0.8114|f1=0.7255|auc=0.7824|aupr=0.7781\n",
      "tn = 8061, fp = 5921, fn = 2625, tp = 11292\n",
      "-----------------------------------------------------------------\n",
      "1折交叉验证\n",
      "acc=0.6785|precision=0.6750|recall=0.8860|f1=0.7662|auc=0.7200|aupr=0.7710\n",
      "tn = 12102, fp = 20274, fn = 5421, tp = 42114\n",
      "-----------------------------------------------------------------\n",
      "acc=0.6266|precision=0.5886|recall=0.8352|f1=0.6906|auc=0.6939|aupr=0.6660\n",
      "tn = 5859, fp = 8123, fn = 2294, tp = 11623\n",
      "-----------------------------------------------------------------\n",
      "2折交叉验证\n",
      "acc=0.6772|precision=0.6771|recall=0.8715|f1=0.7621|auc=0.7200|aupr=0.7695\n",
      "tn = 12806, fp = 19701, fn = 6093, tp = 41311\n",
      "-----------------------------------------------------------------\n",
      "acc=0.6277|precision=0.5920|recall=0.8163|f1=0.6863|auc=0.6935|aupr=0.6668\n",
      "tn = 6151, fp = 7831, fn = 2556, tp = 11361\n",
      "-----------------------------------------------------------------\n",
      "3折交叉验证\n",
      "acc=0.6797|precision=0.6803|recall=0.8714|f1=0.7641|auc=0.7215|aupr=0.7728\n",
      "tn = 12868, fp = 19480, fn = 6116, tp = 41447\n",
      "-----------------------------------------------------------------\n",
      "acc=0.6317|precision=0.5949|recall=0.8200|f1=0.6896|auc=0.6939|aupr=0.6660\n",
      "tn = 6212, fp = 7770, fn = 2505, tp = 11412\n",
      "-----------------------------------------------------------------\n",
      "4折交叉验证\n",
      "acc=0.6798|precision=0.6984|recall=0.8110|f1=0.7505|auc=0.7208|aupr=0.7717\n",
      "tn = 15846, fp = 16616, fn = 8969, tp = 38480\n",
      "-----------------------------------------------------------------\n",
      "acc=0.6366|precision=0.6142|recall=0.7298|f1=0.6670|auc=0.6919|aupr=0.6638\n",
      "tn = 7604, fp = 6378, fn = 3761, tp = 10156\n",
      "-----------------------------------------------------------------\n",
      "5折交叉验证\n",
      "acc=0.6776|precision=0.6709|recall=0.8991|f1=0.7684|auc=0.7233|aupr=0.7725\n",
      "tn = 11412, fp = 20962, fn = 4798, tp = 42739\n",
      "-----------------------------------------------------------------\n",
      "acc=0.6237|precision=0.5839|recall=0.8553|f1=0.6940|auc=0.6940|aupr=0.6658\n",
      "tn = 5498, fp = 8484, fn = 2014, tp = 11903\n",
      "-----------------------------------------------------------------\n"
     ]
    }
   ],
   "source": [
    "names =['GBDT','DNN']\n",
    "\n",
    "#names =['RF']\n",
    "Classifier = [GradientBoostingClassifier( random_state=44),\n",
    "                MLPClassifier(random_state =45)]\n",
    "#Classifier = [RandomForestClassifier(random_state=43)]\n",
    "              \n",
    "for name,clf in zip(names,Classifier):\n",
    "        ml_classifiers(train_feature,train_label,test_BD_feature,test_BD_label )"
   ]
  },
  {
   "cell_type": "code",
   "execution_count": 10,
   "metadata": {
    "collapsed": true
   },
   "outputs": [],
   "source": [
    "test_Pub_feature = test.iloc[:,9:209]\n",
    "test_Pub_label = test.iloc[:,7]"
   ]
  },
  {
   "cell_type": "code",
   "execution_count": 57,
   "metadata": {
    "collapsed": true
   },
   "outputs": [
    {
     "name": "stdout",
     "output_type": "stream",
     "text": [
      "1折交叉验证\n",
      "acc=0.9119|precision=0.9113|recall=0.9437|f1=0.9272|auc=0.9660|aupr=0.9745\n",
      "tn = 28010, fp = 4366, fn = 2678, tp = 44857\n",
      "-----------------------------------------------------------------\n",
      "acc=0.8201|precision=0.0435|recall=0.6275|f1=0.0813|auc=0.7565|aupr=0.1884\n",
      "tn = 28351, fp = 6115, fn = 165, tp = 278\n",
      "-----------------------------------------------------------------\n",
      "2折交叉验证\n",
      "acc=0.9101|precision=0.9092|recall=0.9426|f1=0.9256|auc=0.9662|aupr=0.9743\n",
      "tn = 28042, fp = 4465, fn = 2719, tp = 44685\n",
      "-----------------------------------------------------------------\n",
      "acc=0.8207|precision=0.0455|recall=0.6569|f1=0.0851|auc=0.7619|aupr=0.1988\n",
      "tn = 28360, fp = 6106, fn = 152, tp = 291\n",
      "-----------------------------------------------------------------\n",
      "3折交叉验证\n",
      "acc=0.9107|precision=0.9115|recall=0.9414|f1=0.9262|auc=0.9656|aupr=0.9739\n",
      "tn = 27998, fp = 4350, fn = 2786, tp = 44777\n",
      "-----------------------------------------------------------------\n",
      "acc=0.8305|precision=0.0477|recall=0.6524|f1=0.0890|auc=0.7746|aupr=0.1762\n",
      "tn = 28702, fp = 5764, fn = 154, tp = 289\n",
      "-----------------------------------------------------------------\n",
      "4折交叉验证\n",
      "acc=0.9122|precision=0.9106|recall=0.9448|f1=0.9274|auc=0.9666|aupr=0.9749\n",
      "tn = 28063, fp = 4399, fn = 2618, tp = 44831\n",
      "-----------------------------------------------------------------\n",
      "acc=0.8278|precision=0.0466|recall=0.6456|f1=0.0869|auc=0.7681|aupr=0.2198\n",
      "tn = 28611, fp = 5855, fn = 157, tp = 286\n",
      "-----------------------------------------------------------------\n",
      "5折交叉验证\n",
      "acc=0.9120|precision=0.9115|recall=0.9437|f1=0.9273|auc=0.9665|aupr=0.9747\n",
      "tn = 28019, fp = 4355, fn = 2678, tp = 44859\n",
      "-----------------------------------------------------------------\n",
      "acc=0.8240|precision=0.0457|recall=0.6479|f1=0.0854|auc=0.7628|aupr=0.1864\n",
      "tn = 28477, fp = 5989, fn = 156, tp = 287\n",
      "-----------------------------------------------------------------\n",
      "1折交叉验证\n",
      "acc=0.7668|precision=0.7613|recall=0.8856|f1=0.8187|auc=0.8393|aupr=0.8730\n",
      "tn = 19177, fp = 13199, fn = 5439, tp = 42096\n",
      "-----------------------------------------------------------------\n",
      "acc=0.5450|precision=0.0206|recall=0.7472|f1=0.0400|auc=0.6945|aupr=0.0243\n",
      "tn = 18696, fp = 15770, fn = 112, tp = 331\n",
      "-----------------------------------------------------------------\n",
      "2折交叉验证\n",
      "acc=0.7669|precision=0.7605|recall=0.8860|f1=0.8185|auc=0.8400|aupr=0.8723\n",
      "tn = 19283, fp = 13224, fn = 5404, tp = 42000\n",
      "-----------------------------------------------------------------\n",
      "acc=0.5643|precision=0.0211|recall=0.7359|f1=0.0411|auc=0.7027|aupr=0.0252\n",
      "tn = 19374, fp = 15092, fn = 117, tp = 326\n",
      "-----------------------------------------------------------------\n",
      "3折交叉验证\n",
      "acc=0.7682|precision=0.7628|recall=0.8862|f1=0.8198|auc=0.8399|aupr=0.8728\n",
      "tn = 19239, fp = 13109, fn = 5415, tp = 42148\n",
      "-----------------------------------------------------------------\n",
      "acc=0.5616|precision=0.0215|recall=0.7540|f1=0.0418|auc=0.6994|aupr=0.0240\n",
      "tn = 19270, fp = 15196, fn = 109, tp = 334\n",
      "-----------------------------------------------------------------\n",
      "4折交叉验证\n",
      "acc=0.7683|precision=0.7629|recall=0.8847|f1=0.8193|auc=0.8421|aupr=0.8747\n",
      "tn = 19417, fp = 13045, fn = 5470, tp = 41979\n",
      "-----------------------------------------------------------------\n",
      "acc=0.5469|precision=0.0205|recall=0.7427|f1=0.0399|auc=0.6958|aupr=0.0253\n",
      "tn = 18763, fp = 15703, fn = 114, tp = 329\n",
      "-----------------------------------------------------------------\n",
      "5折交叉验证\n",
      "acc=0.7672|precision=0.7624|recall=0.8842|f1=0.8188|auc=0.8395|aupr=0.8724\n",
      "tn = 19273, fp = 13101, fn = 5505, tp = 42032\n",
      "-----------------------------------------------------------------\n",
      "acc=0.5510|precision=0.0196|recall=0.6998|f1=0.0380|auc=0.6822|aupr=0.0231\n",
      "tn = 18924, fp = 15542, fn = 133, tp = 310\n",
      "-----------------------------------------------------------------\n",
      "1折交叉验证\n",
      "acc=0.6785|precision=0.6750|recall=0.8860|f1=0.7662|auc=0.7200|aupr=0.7710\n",
      "tn = 12102, fp = 20274, fn = 5421, tp = 42114\n",
      "-----------------------------------------------------------------\n",
      "acc=0.4722|precision=0.0170|recall=0.7133|f1=0.0332|auc=0.6358|aupr=0.0214\n",
      "tn = 16169, fp = 18297, fn = 127, tp = 316\n",
      "-----------------------------------------------------------------\n",
      "2折交叉验证\n",
      "acc=0.6772|precision=0.6771|recall=0.8715|f1=0.7621|auc=0.7200|aupr=0.7695\n",
      "tn = 12806, fp = 19701, fn = 6093, tp = 41311\n",
      "-----------------------------------------------------------------\n",
      "acc=0.4974|precision=0.0172|recall=0.6885|f1=0.0336|auc=0.6353|aupr=0.0211\n",
      "tn = 17060, fp = 17406, fn = 138, tp = 305\n",
      "-----------------------------------------------------------------\n",
      "3折交叉验证\n",
      "acc=0.6797|precision=0.6803|recall=0.8714|f1=0.7641|auc=0.7215|aupr=0.7728\n",
      "tn = 12868, fp = 19480, fn = 6116, tp = 41447\n",
      "-----------------------------------------------------------------\n",
      "acc=0.5042|precision=0.0173|recall=0.6817|f1=0.0337|auc=0.6372|aupr=0.0218\n",
      "tn = 17300, fp = 17166, fn = 141, tp = 302\n",
      "-----------------------------------------------------------------\n",
      "4折交叉验证\n",
      "acc=0.6798|precision=0.6984|recall=0.8110|f1=0.7505|auc=0.7208|aupr=0.7717\n",
      "tn = 15846, fp = 16616, fn = 8969, tp = 38480\n",
      "-----------------------------------------------------------------\n",
      "acc=0.6098|precision=0.0188|recall=0.5824|f1=0.0365|auc=0.6418|aupr=0.0225\n",
      "tn = 21031, fp = 13435, fn = 185, tp = 258\n",
      "-----------------------------------------------------------------\n",
      "5折交叉验证\n",
      "acc=0.6776|precision=0.6709|recall=0.8991|f1=0.7684|auc=0.7233|aupr=0.7725\n",
      "tn = 11412, fp = 20962, fn = 4798, tp = 42739\n",
      "-----------------------------------------------------------------\n",
      "acc=0.4395|precision=0.0166|recall=0.7404|f1=0.0324|auc=0.6353|aupr=0.0216\n",
      "tn = 15013, fp = 19453, fn = 115, tp = 328\n",
      "-----------------------------------------------------------------\n"
     ]
    }
   ],
   "source": [
    "names =['RF','GBDT','DNN']\n",
    "\n",
    "#names =['RF']\n",
    "Classifier = [RandomForestClassifier(random_state=43),GradientBoostingClassifier( random_state=44),\n",
    "                MLPClassifier(random_state =45)]\n",
    "#Classifier = [RandomForestClassifier(random_state=43)]\n",
    "              \n",
    "for name,clf in zip(names,Classifier):\n",
    "        ml_classifiers(train_feature,train_label,test_Pub_feature,test_Pub_label )"
   ]
  },
  {
   "cell_type": "code",
   "execution_count": 7,
   "metadata": {
    "collapsed": true
   },
   "outputs": [],
   "source": [
    "from sklearn.naive_bayes import GaussianNB\n"
   ]
  },
  {
   "cell_type": "code",
   "execution_count": 8,
   "metadata": {
    "collapsed": true
   },
   "outputs": [
    {
     "name": "stdout",
     "output_type": "stream",
     "text": [
      "1折交叉验证\n",
      "acc=0.6641|precision=0.7033|recall=0.7529|f1=0.7273|auc=0.7099|aupr=0.7735\n",
      "tn = 17278, fp = 15098, fn = 11746, tp = 35789\n",
      "-----------------------------------------------------------------\n",
      "acc=0.6327|precision=0.6218|recall=0.6729|f1=0.6464|auc=0.6789|aupr=0.6583\n",
      "tn = 8287, fp = 5695, fn = 4552, tp = 9365\n",
      "-----------------------------------------------------------------\n",
      "2折交叉验证\n",
      "acc=0.6640|precision=0.7045|recall=0.7470|f1=0.7251|auc=0.7107|aupr=0.7723\n",
      "tn = 17651, fp = 14856, fn = 11994, tp = 35410\n",
      "-----------------------------------------------------------------\n",
      "acc=0.6365|precision=0.6244|recall=0.6808|f1=0.6514|auc=0.6836|aupr=0.6631\n",
      "tn = 8282, fp = 5700, fn = 4442, tp = 9475\n",
      "-----------------------------------------------------------------\n",
      "3折交叉验证\n",
      "acc=0.6644|precision=0.7069|recall=0.7451|f1=0.7255|auc=0.7087|aupr=0.7712\n",
      "tn = 17657, fp = 14691, fn = 12126, tp = 35437\n",
      "-----------------------------------------------------------------\n",
      "acc=0.6340|precision=0.6230|recall=0.6742|f1=0.6476|auc=0.6807|aupr=0.6592\n",
      "tn = 8304, fp = 5678, fn = 4534, tp = 9383\n",
      "-----------------------------------------------------------------\n",
      "4折交叉验证\n",
      "acc=0.6637|precision=0.7038|recall=0.7486|f1=0.7255|auc=0.7113|aupr=0.7752\n",
      "tn = 17514, fp = 14948, fn = 11927, tp = 35522\n",
      "-----------------------------------------------------------------\n",
      "acc=0.6362|precision=0.6237|recall=0.6823|f1=0.6517|auc=0.6831|aupr=0.6632\n",
      "tn = 8254, fp = 5728, fn = 4422, tp = 9495\n",
      "-----------------------------------------------------------------\n",
      "5折交叉验证\n",
      "acc=0.6637|precision=0.7055|recall=0.7461|f1=0.7253|auc=0.7110|aupr=0.7749\n",
      "tn = 17572, fp = 14802, fn = 12070, tp = 35467\n",
      "-----------------------------------------------------------------\n",
      "acc=0.6377|precision=0.6250|recall=0.6842|f1=0.6532|auc=0.6845|aupr=0.6639\n",
      "tn = 8268, fp = 5714, fn = 4395, tp = 9522\n",
      "-----------------------------------------------------------------\n"
     ]
    }
   ],
   "source": [
    "#names =['SVM','RF','GBDT','DNN']\n",
    "names =['GNB']\n",
    "#Classifier = [SVC(gamma=2, C=1, random_state=42,probability=True),RandomForestClassifier(random_state=43),\n",
    "              #GradientBoostingClassifier( random_state=44),MLPClassifier(alpha=1, max_iter=1000,random_state =45)]\n",
    "GNB = [GaussianNB()]\n",
    "              \n",
    "for name,clf in zip(names,GNB):\n",
    "        ml_classifiers(train_feature,train_label,test_BD_feature,test_BD_label )"
   ]
  },
  {
   "cell_type": "code",
   "execution_count": 11,
   "metadata": {
    "collapsed": false,
    "scrolled": true
   },
   "outputs": [
    {
     "name": "stdout",
     "output_type": "stream",
     "text": [
      "1折交叉验证\n",
      "acc=0.6641|precision=0.7033|recall=0.7529|f1=0.7273|auc=0.7099|aupr=0.7735\n",
      "tn = 17278, fp = 15098, fn = 11746, tp = 35789\n",
      "-----------------------------------------------------------------\n",
      "acc=0.5767|precision=0.0163|recall=0.5440|f1=0.0316|auc=0.5834|aupr=0.0161\n",
      "tn = 19891, fp = 14575, fn = 202, tp = 241\n",
      "-----------------------------------------------------------------\n",
      "2折交叉验证\n",
      "acc=0.6640|precision=0.7045|recall=0.7470|f1=0.7251|auc=0.7107|aupr=0.7723\n",
      "tn = 17651, fp = 14856, fn = 11994, tp = 35410\n",
      "-----------------------------------------------------------------\n",
      "acc=0.5808|precision=0.0159|recall=0.5260|f1=0.0309|auc=0.5814|aupr=0.0159\n",
      "tn = 20041, fp = 14425, fn = 210, tp = 233\n",
      "-----------------------------------------------------------------\n",
      "3折交叉验证\n",
      "acc=0.6644|precision=0.7069|recall=0.7451|f1=0.7255|auc=0.7087|aupr=0.7712\n",
      "tn = 17657, fp = 14691, fn = 12126, tp = 35437\n",
      "-----------------------------------------------------------------\n",
      "acc=0.5800|precision=0.0159|recall=0.5282|f1=0.0309|auc=0.5827|aupr=0.0160\n",
      "tn = 20012, fp = 14454, fn = 209, tp = 234\n",
      "-----------------------------------------------------------------\n",
      "4折交叉验证\n",
      "acc=0.6637|precision=0.7038|recall=0.7486|f1=0.7255|auc=0.7113|aupr=0.7752\n",
      "tn = 17514, fp = 14948, fn = 11927, tp = 35522\n",
      "-----------------------------------------------------------------\n",
      "acc=0.5776|precision=0.0160|recall=0.5350|f1=0.0311|auc=0.5822|aupr=0.0160\n",
      "tn = 19926, fp = 14540, fn = 206, tp = 237\n",
      "-----------------------------------------------------------------\n",
      "5折交叉验证\n",
      "acc=0.6637|precision=0.7055|recall=0.7461|f1=0.7253|auc=0.7110|aupr=0.7749\n",
      "tn = 17572, fp = 14802, fn = 12070, tp = 35467\n",
      "-----------------------------------------------------------------\n",
      "acc=0.5775|precision=0.0158|recall=0.5282|f1=0.0308|auc=0.5795|aupr=0.0158\n",
      "tn = 19927, fp = 14539, fn = 209, tp = 234\n",
      "-----------------------------------------------------------------\n"
     ]
    }
   ],
   "source": [
    "ml_classifiers(train_feature,train_label,test_Pub_feature,test_Pub_label )"
   ]
  },
  {
   "cell_type": "code",
   "execution_count": 15,
   "metadata": {
    "collapsed": false,
    "scrolled": true
   },
   "outputs": [
    {
     "name": "stdout",
     "output_type": "stream",
     "text": [
      "1折交叉验证\n",
      "acc=0.8986|precision=0.9111|recall=0.9193|f1=0.9152|auc=0.9502|aupr=0.9592\n",
      "tn = 28111, fp = 4265, fn = 3835, tp = 43700\n",
      "-----------------------------------------------------------------\n",
      "acc=0.7444|precision=0.7374|recall=0.7573|f1=0.7472|auc=0.8157|aupr=0.7974\n",
      "tn = 10228, fp = 3754, fn = 3377, tp = 10540\n",
      "-----------------------------------------------------------------\n",
      "2折交叉验证\n",
      "acc=0.8959|precision=0.9047|recall=0.9216|f1=0.9131|auc=0.9503|aupr=0.9597\n",
      "tn = 27906, fp = 4601, fn = 3716, tp = 43688\n",
      "-----------------------------------------------------------------\n",
      "acc=0.7520|precision=0.7366|recall=0.7828|f1=0.7590|auc=0.8224|aupr=0.8009\n",
      "tn = 10086, fp = 3896, fn = 3023, tp = 10894\n",
      "-----------------------------------------------------------------\n",
      "3折交叉验证\n",
      "acc=0.8933|precision=0.9119|recall=0.9085|f1=0.9102|auc=0.9485|aupr=0.9587\n",
      "tn = 28171, fp = 4177, fn = 4351, tp = 43212\n",
      "-----------------------------------------------------------------\n",
      "acc=0.7560|precision=0.7505|recall=0.7654|f1=0.7579|auc=0.8261|aupr=0.8150\n",
      "tn = 10440, fp = 3542, fn = 3265, tp = 10652\n",
      "-----------------------------------------------------------------\n",
      "4折交叉验证\n",
      "acc=0.8974|precision=0.9019|recall=0.9282|f1=0.9149|auc=0.9496|aupr=0.9586\n",
      "tn = 27672, fp = 4790, fn = 3408, tp = 44041\n",
      "-----------------------------------------------------------------\n",
      "acc=0.7577|precision=0.7404|recall=0.7918|f1=0.7653|auc=0.8326|aupr=0.8239\n",
      "tn = 10118, fp = 3864, fn = 2897, tp = 11020\n",
      "-----------------------------------------------------------------\n"
     ]
    },
    {
     "name": "stderr",
     "output_type": "stream",
     "text": [
      "/home/dqw_zyf/.conda/envs/zyf/lib/python3.9/site-packages/sklearn/neural_network/_multilayer_perceptron.py:692: ConvergenceWarning: Stochastic Optimizer: Maximum iterations (200) reached and the optimization hasn't converged yet.\n",
      "  warnings.warn(\n"
     ]
    },
    {
     "name": "stdout",
     "output_type": "stream",
     "text": [
      "5折交叉验证\n",
      "acc=0.8972|precision=0.9111|recall=0.9165|f1=0.9138|auc=0.9507|aupr=0.9596\n",
      "tn = 28123, fp = 4251, fn = 3967, tp = 43570\n",
      "-----------------------------------------------------------------\n",
      "acc=0.7447|precision=0.7413|recall=0.7499|f1=0.7456|auc=0.8141|aupr=0.7980\n",
      "tn = 10340, fp = 3642, fn = 3480, tp = 10437\n",
      "-----------------------------------------------------------------\n"
     ]
    }
   ],
   "source": [
    "names =['DNN']\n",
    "\n",
    "#names =['RF']\n",
    "Classifier = [MLPClassifier((256,512,256),random_state =45)]\n",
    "#Classifier = [RandomForestClassifier(random_state=43)]\n",
    "              \n",
    "for name,clf in zip(names,Classifier):\n",
    "        ml_classifiers(train_feature,train_label,test_BD_feature,test_BD_label )"
   ]
  },
  {
   "cell_type": "code",
   "execution_count": 16,
   "metadata": {
    "collapsed": false
   },
   "outputs": [
    {
     "name": "stdout",
     "output_type": "stream",
     "text": [
      "1折交叉验证\n",
      "acc=0.8986|precision=0.9111|recall=0.9193|f1=0.9152|auc=0.9502|aupr=0.9592\n",
      "tn = 28111, fp = 4265, fn = 3835, tp = 43700\n",
      "-----------------------------------------------------------------\n",
      "acc=0.7150|precision=0.0265|recall=0.6005|f1=0.0508|auc=0.6990|aupr=0.0278\n",
      "tn = 24695, fp = 9771, fn = 177, tp = 266\n",
      "-----------------------------------------------------------------\n",
      "2折交叉验证\n",
      "acc=0.8959|precision=0.9047|recall=0.9216|f1=0.9131|auc=0.9503|aupr=0.9597\n",
      "tn = 27906, fp = 4601, fn = 3716, tp = 43688\n",
      "-----------------------------------------------------------------\n",
      "acc=0.7051|precision=0.0256|recall=0.6005|f1=0.0491|auc=0.6973|aupr=0.0275\n",
      "tn = 24348, fp = 10118, fn = 177, tp = 266\n",
      "-----------------------------------------------------------------\n",
      "3折交叉验证\n",
      "acc=0.8933|precision=0.9119|recall=0.9085|f1=0.9102|auc=0.9485|aupr=0.9587\n",
      "tn = 28171, fp = 4177, fn = 4351, tp = 43212\n",
      "-----------------------------------------------------------------\n",
      "acc=0.7212|precision=0.0247|recall=0.5440|f1=0.0472|auc=0.6739|aupr=0.0259\n",
      "tn = 24935, fp = 9531, fn = 202, tp = 241\n",
      "-----------------------------------------------------------------\n",
      "4折交叉验证\n",
      "acc=0.8974|precision=0.9019|recall=0.9282|f1=0.9149|auc=0.9496|aupr=0.9586\n",
      "tn = 27672, fp = 4790, fn = 3408, tp = 44041\n",
      "-----------------------------------------------------------------\n",
      "acc=0.6876|precision=0.0241|recall=0.5982|f1=0.0463|auc=0.6734|aupr=0.0248\n",
      "tn = 23737, fp = 10729, fn = 178, tp = 265\n",
      "-----------------------------------------------------------------\n"
     ]
    },
    {
     "name": "stderr",
     "output_type": "stream",
     "text": [
      "/home/dqw_zyf/.conda/envs/zyf/lib/python3.9/site-packages/sklearn/neural_network/_multilayer_perceptron.py:692: ConvergenceWarning: Stochastic Optimizer: Maximum iterations (200) reached and the optimization hasn't converged yet.\n",
      "  warnings.warn(\n"
     ]
    },
    {
     "name": "stdout",
     "output_type": "stream",
     "text": [
      "5折交叉验证\n",
      "acc=0.8972|precision=0.9111|recall=0.9165|f1=0.9138|auc=0.9507|aupr=0.9596\n",
      "tn = 28123, fp = 4251, fn = 3967, tp = 43570\n",
      "-----------------------------------------------------------------\n",
      "acc=0.7111|precision=0.0238|recall=0.5440|f1=0.0456|auc=0.6583|aupr=0.0222\n",
      "tn = 24583, fp = 9883, fn = 202, tp = 241\n",
      "-----------------------------------------------------------------\n"
     ]
    }
   ],
   "source": [
    "ml_classifiers(train_feature,train_label,test_Pub_feature,test_Pub_label )"
   ]
  },
  {
   "cell_type": "code",
   "execution_count": 13,
   "metadata": {
    "collapsed": true
   },
   "outputs": [
    {
     "name": "stderr",
     "output_type": "stream",
     "text": [
      "/home/dqw_zyf/.conda/envs/zyf/lib/python3.9/site-packages/sklearn/neural_network/_multilayer_perceptron.py:692: ConvergenceWarning: Stochastic Optimizer: Maximum iterations (200) reached and the optimization hasn't converged yet.\n",
      "  warnings.warn(\n"
     ]
    },
    {
     "name": "stdout",
     "output_type": "stream",
     "text": [
      "1折交叉验证\n",
      "acc=0.8611|precision=0.8634|recall=0.9106|f1=0.8864|auc=0.9259|aupr=0.9413\n",
      "tn = 25529, fp = 6847, fn = 4251, tp = 43284\n",
      "-----------------------------------------------------------------\n",
      "acc=0.7223|precision=0.0259|recall=0.5711|f1=0.0496|auc=0.7037|aupr=0.0312\n",
      "tn = 24963, fp = 9503, fn = 190, tp = 253\n",
      "-----------------------------------------------------------------\n"
     ]
    },
    {
     "name": "stderr",
     "output_type": "stream",
     "text": [
      "/home/dqw_zyf/.conda/envs/zyf/lib/python3.9/site-packages/sklearn/neural_network/_multilayer_perceptron.py:699: UserWarning: Training interrupted by user.\n",
      "  warnings.warn(\"Training interrupted by user.\")\n"
     ]
    },
    {
     "name": "stdout",
     "output_type": "stream",
     "text": [
      "2折交叉验证\n",
      "acc=0.8444|precision=0.8515|recall=0.8934|f1=0.8720|auc=0.9128|aupr=0.9311\n",
      "tn = 25122, fp = 7385, fn = 5053, tp = 42351\n",
      "-----------------------------------------------------------------\n",
      "acc=0.7126|precision=0.0266|recall=0.6072|f1=0.0509|auc=0.7078|aupr=0.0255\n",
      "tn = 24607, fp = 9859, fn = 174, tp = 269\n",
      "-----------------------------------------------------------------\n"
     ]
    },
    {
     "name": "stderr",
     "output_type": "stream",
     "text": [
      "/home/dqw_zyf/.conda/envs/zyf/lib/python3.9/site-packages/sklearn/neural_network/_multilayer_perceptron.py:699: UserWarning: Training interrupted by user.\n",
      "  warnings.warn(\"Training interrupted by user.\")\n"
     ]
    },
    {
     "name": "stdout",
     "output_type": "stream",
     "text": [
      "3折交叉验证\n",
      "acc=0.8200|precision=0.8524|recall=0.8437|f1=0.8481|auc=0.8907|aupr=0.9146\n",
      "tn = 25401, fp = 6947, fn = 7433, tp = 40130\n",
      "-----------------------------------------------------------------\n",
      "acc=0.7279|precision=0.0240|recall=0.5147|f1=0.0458|auc=0.6783|aupr=0.0216\n",
      "tn = 25181, fp = 9285, fn = 215, tp = 228\n",
      "-----------------------------------------------------------------\n"
     ]
    },
    {
     "name": "stderr",
     "output_type": "stream",
     "text": [
      "/home/dqw_zyf/.conda/envs/zyf/lib/python3.9/site-packages/sklearn/neural_network/_multilayer_perceptron.py:699: UserWarning: Training interrupted by user.\n",
      "  warnings.warn(\"Training interrupted by user.\")\n"
     ]
    },
    {
     "name": "stdout",
     "output_type": "stream",
     "text": [
      "4折交叉验证\n",
      "acc=0.7819|precision=0.7850|recall=0.8712|f1=0.8259|auc=0.8513|aupr=0.8818\n",
      "tn = 21140, fp = 11322, fn = 6110, tp = 41339\n",
      "-----------------------------------------------------------------\n",
      "acc=0.6187|precision=0.0219|recall=0.6659|f1=0.0424|auc=0.6638|aupr=0.0198\n",
      "tn = 21303, fp = 13163, fn = 148, tp = 295\n",
      "-----------------------------------------------------------------\n"
     ]
    },
    {
     "name": "stderr",
     "output_type": "stream",
     "text": [
      "/home/dqw_zyf/.conda/envs/zyf/lib/python3.9/site-packages/sklearn/neural_network/_multilayer_perceptron.py:699: UserWarning: Training interrupted by user.\n",
      "  warnings.warn(\"Training interrupted by user.\")\n"
     ]
    },
    {
     "name": "stdout",
     "output_type": "stream",
     "text": [
      "5折交叉验证\n",
      "acc=0.7642|precision=0.7701|recall=0.8606|f1=0.8128|auc=0.8300|aupr=0.8625\n",
      "tn = 20161, fp = 12213, fn = 6627, tp = 40910\n",
      "-----------------------------------------------------------------\n",
      "acc=0.6003|precision=0.0202|recall=0.6411|f1=0.0391|auc=0.6374|aupr=0.0179\n",
      "tn = 20672, fp = 13794, fn = 159, tp = 284\n",
      "-----------------------------------------------------------------\n"
     ]
    }
   ],
   "source": [
    "names =['DNN']\n",
    "\n",
    "#names =['RF']\n",
    "Classifier = [MLPClassifier(random_state =45)]\n",
    "#Classifier = [RandomForestClassifier(random_state=43)]\n",
    "              \n",
    "for name,clf in zip(names,Classifier):\n",
    "        ml_classifiers(train_feature,train_label,test_Pub_feature,test_Pub_label )"
   ]
  },
  {
   "cell_type": "code",
   "execution_count": null,
   "metadata": {
    "collapsed": true
   },
   "outputs": [],
   "source": [
    "\n",
    "clf= [RandomForestClassifier(random_state=43)]\n",
    "              \n",
    "fit_clf = clf.fit(train_feature,train_label)\n",
    "\n",
    "y_prob = fit_clf.predict_proba(X_test)"
   ]
  }
 ],
 "metadata": {
  "anaconda-cloud": {},
  "kernelspec": {
   "display_name": "Python [conda env:zyf]",
   "language": "python",
   "name": "conda-env-zyf-py"
  },
  "language_info": {
   "codemirror_mode": {
    "name": "ipython",
    "version": 3
   },
   "file_extension": ".py",
   "mimetype": "text/x-python",
   "name": "python",
   "nbconvert_exporter": "python",
   "pygments_lexer": "ipython3",
   "version": "3.9.0"
  }
 },
 "nbformat": 4,
 "nbformat_minor": 1
}
